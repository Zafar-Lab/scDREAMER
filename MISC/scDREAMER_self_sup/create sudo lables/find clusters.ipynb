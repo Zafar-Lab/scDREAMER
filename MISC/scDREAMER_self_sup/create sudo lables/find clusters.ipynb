{
 "cells": [
  {
   "cell_type": "markdown",
   "id": "178a8add-05f9-40ba-8651-75185752bdd6",
   "metadata": {},
   "source": [
    "# getting number of clusters louvain + gmm"
   ]
  },
  {
   "cell_type": "code",
   "execution_count": null,
   "id": "bbb716f8-e7ca-42b0-8c12-041997f4f0ac",
   "metadata": {
    "tags": []
   },
   "outputs": [],
   "source": [
    "import scanpy as sc\n",
    "from sklearn.metrics import silhouette_score,calinski_harabasz_score, davies_bouldin_score\n",
    "import pandas as pd\n",
    "import numpy as np\n",
    "import matplotlib.pyplot as plt\n",
    "from sklearn.mixture import GaussianMixture"
   ]
  },
  {
   "cell_type": "code",
   "execution_count": null,
   "id": "08cde8e9-8644-493d-a751-c33488611cbd",
   "metadata": {
    "tags": [
     "parameters"
    ]
   },
   "outputs": [],
   "source": [
    "dataset = ''"
   ]
  },
  {
   "cell_type": "code",
   "execution_count": null,
   "id": "f2193f78-102d-4ad1-95e3-74fab791c922",
   "metadata": {
    "tags": []
   },
   "outputs": [],
   "source": [
    "\n",
    "batch_key_dic = {'Immune_Human' : 'batch',\n",
    "                 'Lung' : 'batch',\n",
    "                 'Pancreas' : 'tech',\n",
    "                 'Human_Mouse' : 'batch',\n",
    "                 'Human_Retina': \"Batch\",\n",
    "                 \n",
    "                }\n",
    "cell_type_key_dic = {'Immune_Human' : 'final_annotation',\n",
    "                 'Lung' : 'cell_type',\n",
    "                 'Pancreas' : 'celltype',\n",
    "                 'Human_Mouse' : \"celltype\",\n",
    "                 \"Human_Retina\":\"Subcluster\",\n",
    "                    }    \n",
    "\n",
    "dir_path = \"/home/krushna/Documents/Data_integration/SCRNA_Datasets/All_h5ad/\"\n",
    "emb_path = \"/home/krushna/Documents/Data_integration/Othermethods/ourmethod/self-sup/pipeline_tf2 50/step1/\"\n",
    "batch = batch_key_dic[dataset]\n",
    "cell_type = cell_type_key_dic[dataset]"
   ]
  },
  {
   "cell_type": "code",
   "execution_count": null,
   "id": "822ab4b9-e0b2-45ae-a0e1-0208e4e88bb8",
   "metadata": {
    "tags": []
   },
   "outputs": [],
   "source": [
    "adata = sc.read_h5ad(dir_path+dataset+'.h5ad')\n",
    "emb_path = emb_path + dataset+'_latent_matrix_c99_step1.csv'\n",
    "final_embedings=pd.read_csv(emb_path, sep=',',header=None).values\n",
    "adata.obsm['final_embeddings'] = final_embedings\n",
    "sc.pp.neighbors(adata, use_rep='final_embeddings')\n",
    "adata"
   ]
  },
  {
   "cell_type": "code",
   "execution_count": null,
   "id": "ec800d03-7e6a-49b1-bf64-a8e10f62a005",
   "metadata": {
    "tags": []
   },
   "outputs": [],
   "source": [
    "number_of_celltypes = len(adata.obs[cell_type].unique())\n",
    "print('number of cell types ',  number_of_celltypes)"
   ]
  },
  {
   "cell_type": "code",
   "execution_count": null,
   "id": "99655366-b00f-4b9f-b931-c93437f33f42",
   "metadata": {
    "tags": []
   },
   "outputs": [],
   "source": [
    "cluster_res = []\n",
    "for res in list(np.linspace(0.0001, 1.5, num=20)):\n",
    "    #find clusters\n",
    "    sc.tl.leiden(adata, resolution=res) # louvain\n",
    "    noofclus = len(np.unique(adata.obs['leiden']))\n",
    "    cluster_res.append([noofclus,res])"
   ]
  },
  {
   "cell_type": "code",
   "execution_count": null,
   "id": "5ab720cb-d1b5-4660-bcda-2838cd60971c",
   "metadata": {
    "tags": []
   },
   "outputs": [],
   "source": [
    "cluster_res"
   ]
  },
  {
   "cell_type": "code",
   "execution_count": null,
   "id": "2679363a-848b-409a-8801-9600281c5b9a",
   "metadata": {
    "tags": []
   },
   "outputs": [],
   "source": [
    "# find clusters\n",
    "clusters = []\n",
    "sil_scores = []\n",
    "ch_scores = []\n",
    "bic_scores = []\n",
    "db_scores = []\n",
    "for res in list(np.linspace(0.0001, 1.5, num=20)):\n",
    "    #find clusters\n",
    "    sc.tl.leiden(adata, resolution=res) # louvain\n",
    "    noofclus = len(np.unique(adata.obs['leiden']))\n",
    "    \n",
    "    if noofclus == 1:\n",
    "        continue\n",
    "        \n",
    "    clusters.append(noofclus)\n",
    "    # silhouette_score\n",
    "    sil_score = silhouette_score(adata.obsm['final_embeddings'], adata.obs['leiden'])\n",
    "    sil_scores.append(sil_score)\n",
    "    \n",
    "    #ch score\n",
    "    ch = calinski_harabasz_score(adata.obsm['final_embeddings'], adata.obs['leiden'])\n",
    "    ch_scores.append(ch)\n",
    "    \n",
    "    #db scores\n",
    "    db = davies_bouldin_score(adata.obsm['final_embeddings'], adata.obs['leiden'])\n",
    "    db_scores.append(db)\n",
    "    \n",
    "    # bic \n",
    "    gmm = GaussianMixture(n_components=noofclus).fit(adata.obsm['final_embeddings'])\n",
    "    labels = gmm.predict(adata.obsm['final_embeddings'])\n",
    "    bic = gmm.bic(adata.obsm['final_embeddings'])\n",
    "    bic_scores.append(bic)"
   ]
  },
  {
   "cell_type": "code",
   "execution_count": null,
   "id": "d4256cf1-c448-4221-b4a3-449169c3082c",
   "metadata": {
    "tags": []
   },
   "outputs": [],
   "source": [
    "pd.DataFrame([clusters,ch_scores,sil_scores, bic_scores, db_scores])"
   ]
  },
  {
   "cell_type": "code",
   "execution_count": null,
   "id": "81026061-ce20-43e3-9d8f-ac8d2603b9e3",
   "metadata": {
    "tags": []
   },
   "outputs": [],
   "source": [
    "plt.plot(clusters, ch_scores, marker='o')\n",
    "plt.xlabel('Number of clusters')\n",
    "plt.ylabel('ch_scores')\n",
    "plt.title('ch_scores '+dataset+' ideal '+ str(number_of_celltypes))\n",
    "plt.show()\n",
    "\n",
    "plt.plot(clusters, sil_scores, marker='o')\n",
    "plt.xlabel('Number of clusters')\n",
    "plt.ylabel('sil_scores')\n",
    "plt.title('sil_scores '+dataset+' ideal '+ str(number_of_celltypes))\n",
    "plt.show()\n",
    "\n",
    "plt.plot(clusters, bic_scores, marker='o')\n",
    "plt.xlabel('Number of clusters')\n",
    "plt.ylabel('bic_scores')\n",
    "plt.title('bic_scores '+dataset+' ideal '+ str(number_of_celltypes))\n",
    "plt.show()\n",
    "\n",
    "plt.plot(clusters, db_scores, marker='o')\n",
    "plt.xlabel('Number of clusters')\n",
    "plt.ylabel('db_scores')\n",
    "plt.title('db_scores '+dataset+' ideal '+ str(number_of_celltypes))\n",
    "plt.show()"
   ]
  },
  {
   "cell_type": "code",
   "execution_count": null,
   "id": "b12faccb-48f1-4649-995f-394e931c4a88",
   "metadata": {
    "tags": []
   },
   "outputs": [],
   "source": [
    "slopes = []\n",
    "for i in range(len(clusters)-1):\n",
    "    x1, x2 = clusters[i], clusters[i+1]\n",
    "    y1, y2 = bic_scores[i], bic_scores[i+1]\n",
    "    slope = (y2-y1)/(x2-x1)\n",
    "    slopes.append(slope)\n",
    "    \n",
    "# bic_deriv = np.gradient(bics, clusters)\n",
    "\n",
    "# plot derivative of BIC curve\n",
    "plt.plot(clusters[:-1], slopes, marker='o')\n",
    "plt.xlabel('Number of clusters')\n",
    "plt.ylabel('BIC derivative')\n",
    "plt.title('Derivative of BIC curve '+ dataset +' ideal ' + str(number_of_celltypes) )\n",
    "plt.show()\n",
    "    "
   ]
  },
  {
   "cell_type": "code",
   "execution_count": null,
   "id": "6bf70e53-ad63-45a3-80d0-4b6a1ee7bb3f",
   "metadata": {
    "tags": []
   },
   "outputs": [],
   "source": [
    "# bic_deriv = np.gradient(bics, clusters)\n",
    "\n",
    "# # plot derivative of BIC curve\n",
    "# plt.plot(clusters, bic_deriv, marker='o')\n",
    "# plt.xlabel('Number of clusters')\n",
    "# plt.ylabel('BIC derivative')\n",
    "# plt.title('Derivative of BIC curve')\n",
    "# plt.show()"
   ]
  },
  {
   "cell_type": "code",
   "execution_count": null,
   "id": "b072067d-e461-479b-b42d-d95d1c89e921",
   "metadata": {},
   "outputs": [],
   "source": []
  }
 ],
 "metadata": {
  "kernelspec": {
   "display_name": "Python 3",
   "language": "python",
   "name": "python3"
  },
  "language_info": {
   "codemirror_mode": {
    "name": "ipython",
    "version": 3
   },
   "file_extension": ".py",
   "mimetype": "text/x-python",
   "name": "python",
   "nbconvert_exporter": "python",
   "pygments_lexer": "ipython3",
   "version": "3.9.16"
  }
 },
 "nbformat": 4,
 "nbformat_minor": 5
}
