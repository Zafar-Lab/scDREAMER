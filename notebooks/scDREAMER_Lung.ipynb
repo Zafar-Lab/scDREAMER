{
 "cells": [
  {
   "cell_type": "markdown",
   "metadata": {
    "colab_type": "text",
    "id": "view-in-github"
   },
   "source": [
    "<a href=\"https://colab.research.google.com/github/Zafar-Lab/scDREAMER/blob/main/2109_Classifier.ipynb\" target=\"_parent\"><img src=\"https://colab.research.google.com/assets/colab-badge.svg\" alt=\"Open In Colab\"/></a>"
   ]
  },
  {
   "cell_type": "code",
   "execution_count": 1,
   "metadata": {
    "colab": {
     "base_uri": "https://localhost:8080/"
    },
    "id": "tFClw2C_Vndb",
    "outputId": "1ba19649-e6ea-465d-bac4-418c14e7ec68"
   },
   "outputs": [],
   "source": [
    "#%tensorflow_version 1.x"
   ]
  },
  {
   "cell_type": "code",
   "execution_count": 2,
   "metadata": {
    "id": "ba6OBfX1gnzG"
   },
   "outputs": [],
   "source": [
    "import tensorflow as tf"
   ]
  },
  {
   "cell_type": "code",
   "execution_count": 3,
   "metadata": {
    "colab": {
     "base_uri": "https://localhost:8080/"
    },
    "id": "Go9Bo6ceSDoO",
    "outputId": "cc70a49c-de00-40ab-cbad-b6dd27139c2a"
   },
   "outputs": [
    {
     "data": {
      "text/plain": [
       "'\\n!pip install -U scipy==1.5.0\\n!pip install scanpy==1.8.2\\n!pip install -U scikit-learn\\n'"
      ]
     },
     "execution_count": 3,
     "metadata": {},
     "output_type": "execute_result"
    }
   ],
   "source": [
    "import warnings\n",
    "warnings.filterwarnings('ignore')\n",
    "\"\"\"\n",
    "!pip install -U scipy==1.5.0\n",
    "!pip install scanpy==1.8.2\n",
    "!pip install -U scikit-learn\n",
    "\"\"\""
   ]
  },
  {
   "cell_type": "code",
   "execution_count": 4,
   "metadata": {
    "colab": {
     "base_uri": "https://localhost:8080/"
    },
    "id": "Anh-RJEZVJ3R",
    "outputId": "fa98b97f-803f-4f74-89d6-053a00ab8f63"
   },
   "outputs": [],
   "source": [
    "#from google.colab import drive\n",
    "#drive.mount('/content/drive')"
   ]
  },
  {
   "cell_type": "code",
   "execution_count": 5,
   "metadata": {
    "id": "hSANW-xEVJx3"
   },
   "outputs": [],
   "source": [
    "import os\n",
    "import numpy as np"
   ]
  },
  {
   "cell_type": "code",
   "execution_count": 6,
   "metadata": {
    "id": "purv3YeibJgw"
   },
   "outputs": [
    {
     "name": "stderr",
     "output_type": "stream",
     "text": [
      "WARNING: Logging before flag parsing goes to stderr.\n",
      "W0311 19:36:22.052463 140222524818240 module_wrapper.py:139] From /tmp/ipykernel_1421319/734876430.py:1: The name tf.enable_eager_execution is deprecated. Please use tf.compat.v1.enable_eager_execution instead.\n",
      "\n",
      "W0311 19:36:22.053927 140222524818240 module_wrapper.py:139] From /tmp/ipykernel_1421319/734876430.py:3: The name tf.set_random_seed is deprecated. Please use tf.compat.v1.set_random_seed instead.\n",
      "\n"
     ]
    }
   ],
   "source": [
    "tf.enable_eager_execution()\n",
    "np.random.seed(0)\n",
    "tf.set_random_seed(0)"
   ]
  },
  {
   "cell_type": "markdown",
   "metadata": {
    "id": "XnC_XfBeHHq-"
   },
   "source": [
    "Building model"
   ]
  },
  {
   "cell_type": "code",
   "execution_count": 7,
   "metadata": {},
   "outputs": [
    {
     "name": "stdout",
     "output_type": "stream",
     "text": [
      "/home/ajita/Documents/data_integration/scDREAMER/scDREAMER\n"
     ]
    }
   ],
   "source": [
    "import os\n",
    "print (os.getcwd())"
   ]
  },
  {
   "cell_type": "code",
   "execution_count": 8,
   "metadata": {},
   "outputs": [],
   "source": [
    "#data_path = \"/home/ajita/Documents/data_integration/Immune/Immune_ALL_human.h5ad\"\n",
    "#data_path = \"/home/ajita/Documents/data_integration/Human_Retina/Human_Retina.h5ad\"\n",
    "data_path = \"/home/ajita/Documents/data_integration/Lung/Lung_atlas_public.h5ad\"\n",
    "#Lung_wrong_label_10\n",
    "#data_path = \"/home/ajita/Documents/data_integration/Lung/Lung_wrong_label_10.h5ad\"\n",
    "#data_path = \"/home/ajita/Documents/data_integration/Immune/Immune_Human_NA_0.2.h5ad\" #0.2.\n",
    "#data_path = \"/home/ajita/Documents/data_integration/Lung/Lung_NA_0.2.h5ad\""
   ]
  },
  {
   "cell_type": "code",
   "execution_count": 9,
   "metadata": {},
   "outputs": [],
   "source": [
    "name = \"Lung\"\n",
    "\n",
    "batch_key_dic = {'Immune_Human' : 'batch',\n",
    "                 'Lung' : 'batch',\n",
    "                 'Pancreas' : 'tech',\n",
    "                 'Human_Mouse' : 'batch',\n",
    "                 'Human_Retina': \"Batch\"\n",
    "                 \n",
    "                }\n",
    "cell_type_key_dic = {'Immune_Human' : 'final_annotation', # 16\n",
    "                 'Lung' : 'cell_type', # \n",
    "                 'Pancreas' : 'celltype', #\n",
    "                 'Human_Mouse' : \"celltype\", #\n",
    "                 \"Human_Retina\":\"Subcluster\" #\n",
    "                    }    \n",
    "our_method_emb_dic = {'Immune_Human' : 'Immune_Human_case2_latent_matrix_c_300',\n",
    "                 'Lung' : 'Lung_case2_latent_matrix_c_300',\n",
    "                 'Pancreas' : 'Pancreas_case2_latent_matrix_c_250',\n",
    "                 'Human_Retina': \"retina_case2_latent_matrix_c_300\"    \n",
    "                }  "
   ]
  },
  {
   "cell_type": "code",
   "execution_count": null,
   "metadata": {
    "colab": {
     "base_uri": "https://localhost:8080/",
     "height": 1000
    },
    "id": "Lu41SpbIteg2",
    "outputId": "b4dd5296-7e6a-4b8c-f2d7-803ffd8a9768"
   },
   "outputs": [
    {
     "name": "stderr",
     "output_type": "stream",
     "text": [
      "W0311 19:36:22.792090 140222524818240 module_wrapper.py:139] From /tmp/ipykernel_1421319/3954281822.py:11: The name tf.ConfigProto is deprecated. Please use tf.compat.v1.ConfigProto instead.\n",
      "\n",
      "W0311 19:36:22.793671 140222524818240 module_wrapper.py:139] From /tmp/ipykernel_1421319/3954281822.py:16: The name tf.Session is deprecated. Please use tf.compat.v1.Session instead.\n",
      "\n",
      "2023-03-11 19:36:22.795204: I tensorflow/core/platform/cpu_feature_guard.cc:142] Your CPU supports instructions that this TensorFlow binary was not compiled to use: AVX2 AVX512F FMA\n",
      "2023-03-11 19:36:22.826739: I tensorflow/core/platform/profile_utils/cpu_utils.cc:94] CPU Frequency: 2300000000 Hz\n",
      "2023-03-11 19:36:22.834751: I tensorflow/compiler/xla/service/service.cc:168] XLA service 0x564451578220 initialized for platform Host (this does not guarantee that XLA will be used). Devices:\n",
      "2023-03-11 19:36:22.834801: I tensorflow/compiler/xla/service/service.cc:176]   StreamExecutor device (0): Host, Default Version\n",
      "2023-03-11 19:36:22.838148: I tensorflow/stream_executor/platform/default/dso_loader.cc:44] Successfully opened dynamic library libcuda.so.1\n",
      "2023-03-11 19:36:23.031694: I tensorflow/compiler/xla/service/service.cc:168] XLA service 0x5644512bc510 initialized for platform CUDA (this does not guarantee that XLA will be used). Devices:\n",
      "2023-03-11 19:36:23.031756: I tensorflow/compiler/xla/service/service.cc:176]   StreamExecutor device (0): Quadro RTX 5000, Compute Capability 7.5\n",
      "2023-03-11 19:36:23.031771: I tensorflow/compiler/xla/service/service.cc:176]   StreamExecutor device (1): Quadro RTX 5000, Compute Capability 7.5\n",
      "2023-03-11 19:36:23.033108: I tensorflow/core/common_runtime/gpu/gpu_device.cc:1639] Found device 0 with properties: \n",
      "name: Quadro RTX 5000 major: 7 minor: 5 memoryClockRate(GHz): 1.815\n",
      "pciBusID: 0000:af:00.0\n",
      "2023-03-11 19:36:23.033556: I tensorflow/core/common_runtime/gpu/gpu_device.cc:1639] Found device 1 with properties: \n",
      "name: Quadro RTX 5000 major: 7 minor: 5 memoryClockRate(GHz): 1.815\n",
      "pciBusID: 0000:d8:00.0\n",
      "2023-03-11 19:36:23.033803: W tensorflow/stream_executor/platform/default/dso_loader.cc:55] Could not load dynamic library 'libcudart.so.10.0'; dlerror: libcudart.so.10.0: cannot open shared object file: No such file or directory\n",
      "2023-03-11 19:36:23.033944: W tensorflow/stream_executor/platform/default/dso_loader.cc:55] Could not load dynamic library 'libcublas.so.10.0'; dlerror: libcublas.so.10.0: cannot open shared object file: No such file or directory\n",
      "2023-03-11 19:36:23.034055: W tensorflow/stream_executor/platform/default/dso_loader.cc:55] Could not load dynamic library 'libcufft.so.10.0'; dlerror: libcufft.so.10.0: cannot open shared object file: No such file or directory\n",
      "2023-03-11 19:36:23.034166: W tensorflow/stream_executor/platform/default/dso_loader.cc:55] Could not load dynamic library 'libcurand.so.10.0'; dlerror: libcurand.so.10.0: cannot open shared object file: No such file or directory\n",
      "2023-03-11 19:36:23.034281: W tensorflow/stream_executor/platform/default/dso_loader.cc:55] Could not load dynamic library 'libcusolver.so.10.0'; dlerror: libcusolver.so.10.0: cannot open shared object file: No such file or directory\n",
      "2023-03-11 19:36:23.034434: W tensorflow/stream_executor/platform/default/dso_loader.cc:55] Could not load dynamic library 'libcusparse.so.10.0'; dlerror: libcusparse.so.10.0: cannot open shared object file: No such file or directory\n",
      "2023-03-11 19:36:23.034547: W tensorflow/stream_executor/platform/default/dso_loader.cc:55] Could not load dynamic library 'libcudnn.so.7'; dlerror: libcudnn.so.7: cannot open shared object file: No such file or directory\n",
      "2023-03-11 19:36:23.034562: W tensorflow/core/common_runtime/gpu/gpu_device.cc:1662] Cannot dlopen some GPU libraries. Please make sure the missing libraries mentioned above are installed properly if you would like to use GPU. Follow the guide at https://www.tensorflow.org/install/gpu for how to download and setup the required libraries for your platform.\n",
      "Skipping registering GPU devices...\n",
      "2023-03-11 19:36:23.034595: I tensorflow/core/common_runtime/gpu/gpu_device.cc:1180] Device interconnect StreamExecutor with strength 1 edge matrix:\n",
      "2023-03-11 19:36:23.034608: I tensorflow/core/common_runtime/gpu/gpu_device.cc:1186]      0 1 \n",
      "2023-03-11 19:36:23.034619: I tensorflow/core/common_runtime/gpu/gpu_device.cc:1199] 0:   N Y \n",
      "2023-03-11 19:36:23.034628: I tensorflow/core/common_runtime/gpu/gpu_device.cc:1199] 1:   Y N \n"
     ]
    },
    {
     "name": "stdout",
     "output_type": "stream",
     "text": [
      "came in load_gene\n",
      "updated hvg\n"
     ]
    },
    {
     "name": "stderr",
     "output_type": "stream",
     "text": [
      "W0311 19:36:38.997281 140222524818240 module_wrapper.py:139] From /home/ajita/Documents/data_integration/scDREAMER/scDREAMER/model_minibatch.py:9: The name tf.placeholder is deprecated. Please use tf.compat.v1.placeholder instead.\n",
      "\n",
      "W0311 19:36:39.005913 140222524818240 module_wrapper.py:139] From /home/ajita/Documents/data_integration/scDREAMER/scDREAMER/model_minibatch.py:256: The name tf.variable_scope is deprecated. Please use tf.compat.v1.variable_scope instead.\n",
      "\n",
      "W0311 19:36:39.006972 140222524818240 module_wrapper.py:139] From /home/ajita/Documents/data_integration/scDREAMER/scDREAMER/utils_minibatch.py:18: The name tf.get_variable is deprecated. Please use tf.compat.v1.get_variable instead.\n",
      "\n",
      "W0311 19:36:39.007644 140222524818240 lazy_loader.py:50] \n",
      "The TensorFlow contrib module will not be included in TensorFlow 2.0.\n",
      "For more information, please see:\n",
      "  * https://github.com/tensorflow/community/blob/master/rfcs/20180907-contrib-sunset.md\n",
      "  * https://github.com/tensorflow/addons\n",
      "  * https://github.com/tensorflow/io (for I/O related ops)\n",
      "If you depend on functionality not listed there, please file an issue.\n",
      "\n"
     ]
    },
    {
     "name": "stdout",
     "output_type": "stream",
     "text": [
      "here [16 16 16 ... 10 10 10]\n",
      "Shape self.data_train: (32472, 2000)\n",
      "Shape self.data_test: (32472, 2000)\n",
      "encoder input shape  Tensor(\"concat:0\", shape=(?, 2016), dtype=float32)\n"
     ]
    },
    {
     "name": "stderr",
     "output_type": "stream",
     "text": [
      "W0311 19:36:39.313156 140222524818240 deprecation.py:506] From /home/ajita/Documents/data_integration/scDREAMER/scDREAMER/model_minibatch.py:285: calling dropout (from tensorflow.python.ops.nn_ops) with keep_prob is deprecated and will be removed in a future version.\n",
      "Instructions for updating:\n",
      "Please use `rate` instead of `keep_prob`. Rate should be set to `rate = 1 - keep_prob`.\n",
      "W0311 19:36:39.445225 140222524818240 deprecation.py:323] From /home/ajita/Documents/data_integration/scDREAMER/scDREAMER/model_minibatch.py:42: to_float (from tensorflow.python.ops.math_ops) is deprecated and will be removed in a future version.\n",
      "Instructions for updating:\n",
      "Use `tf.cast` instead.\n",
      "W0311 19:36:39.447329 140222524818240 module_wrapper.py:139] From /home/ajita/Documents/data_integration/scDREAMER/scDREAMER/model_minibatch.py:539: The name tf.random_normal is deprecated. Please use tf.random.normal instead.\n",
      "\n",
      "W0311 19:36:39.644978 140222524818240 module_wrapper.py:139] From /home/ajita/Documents/data_integration/scDREAMER/scDREAMER/utils_minibatch.py:41: The name tf.log is deprecated. Please use tf.math.log instead.\n",
      "\n",
      "W0311 19:36:39.653828 140222524818240 module_wrapper.py:139] From /home/ajita/Documents/data_integration/scDREAMER/scDREAMER/utils_minibatch.py:41: The name tf.lgamma is deprecated. Please use tf.math.lgamma instead.\n",
      "\n"
     ]
    },
    {
     "name": "stdout",
     "output_type": "stream",
     "text": [
      "decoder input shape  Tensor(\"concat_2:0\", shape=(?, 26), dtype=float32)\n"
     ]
    },
    {
     "name": "stderr",
     "output_type": "stream",
     "text": [
      "W0311 19:36:39.715375 140222524818240 deprecation.py:323] From /home/ajita/Documents/data_integration/scDREAMER/scDREAMER/model_minibatch.py:105: softmax_cross_entropy_with_logits (from tensorflow.python.ops.nn_ops) is deprecated and will be removed in a future version.\n",
      "Instructions for updating:\n",
      "\n",
      "Future major versions of TensorFlow will allow gradients to flow\n",
      "into the labels input on backprop by default.\n",
      "\n",
      "See `tf.nn.softmax_cross_entropy_with_logits_v2`.\n",
      "\n",
      "W0311 19:36:39.767304 140222524818240 module_wrapper.py:139] From /home/ajita/Documents/data_integration/scDREAMER/scDREAMER/model_minibatch.py:115: The name tf.trainable_variables is deprecated. Please use tf.compat.v1.trainable_variables instead.\n",
      "\n",
      "W0311 19:36:39.768388 140222524818240 module_wrapper.py:139] From /home/ajita/Documents/data_integration/scDREAMER/scDREAMER/model_minibatch.py:124: The name tf.train.Saver is deprecated. Please use tf.compat.v1.train.Saver instead.\n",
      "\n",
      "W0311 19:36:39.805905 140222524818240 module_wrapper.py:139] From /home/ajita/Documents/data_integration/scDREAMER/scDREAMER/model_minibatch.py:131: The name tf.train.AdamOptimizer is deprecated. Please use tf.compat.v1.train.AdamOptimizer instead.\n",
      "\n",
      "W0311 19:36:39.843689 140222524818240 deprecation.py:323] From /home/ajita/anaconda3/envs/tf1_dra/lib/python3.7/site-packages/tensorflow_core/python/ops/math_grad.py:1424: where (from tensorflow.python.ops.array_ops) is deprecated and will be removed in a future version.\n",
      "Instructions for updating:\n",
      "Use tf.where in 2.0, which has the same broadcast rule as np.where\n"
     ]
    },
    {
     "name": "stdout",
     "output_type": "stream",
     "text": [
      "KL gaussian z Tensor(\"mul_9:0\", shape=(?,), dtype=float32)\n",
      "KL gaussian l Tensor(\"mul_8:0\", shape=(?,), dtype=float32)\n",
      "Cluster DRA on DataSet /home/ajita/Documents/data_integration/Lung/Lung_atlas_public.h5ad ... \n"
     ]
    },
    {
     "name": "stderr",
     "output_type": "stream",
     "text": [
      "W0311 19:36:41.678879 140222524818240 module_wrapper.py:139] From /home/ajita/Documents/data_integration/scDREAMER/scDREAMER/model_minibatch.py:143: The name tf.global_variables_initializer is deprecated. Please use tf.compat.v1.global_variables_initializer instead.\n",
      "\n"
     ]
    },
    {
     "name": "stdout",
     "output_type": "stream",
     "text": [
      "Epoch : [0] ,  a_loss = 534.7169, d_loss: -0.1976,  d_loss: 2.4558\n",
      "Epoch : [1] ,  a_loss = 417.8175, d_loss: -0.2364,  d_loss: 1.9527\n",
      "Epoch : [2] ,  a_loss = 405.5442, d_loss: -0.0952,  d_loss: 1.7068\n",
      "Epoch : [3] ,  a_loss = 397.8960, d_loss: -0.0936,  d_loss: 1.6214\n",
      "Epoch : [4] ,  a_loss = 392.3089, d_loss: -0.0927,  d_loss: 1.5661\n",
      "Epoch : [5] ,  a_loss = 387.7847, d_loss: -0.1065,  d_loss: 1.5783\n",
      "Epoch : [6] ,  a_loss = 384.0126, d_loss: -0.1470,  d_loss: 1.6558\n",
      "Epoch : [7] ,  a_loss = 380.6522, d_loss: -0.1538,  d_loss: 1.7244\n",
      "Epoch : [8] ,  a_loss = 377.6303, d_loss: -0.1538,  d_loss: 1.7494\n",
      "Epoch : [9] ,  a_loss = 374.8469, d_loss: -0.1345,  d_loss: 1.7580\n",
      "Epoch : [10] ,  a_loss = 372.4628, d_loss: -0.1857,  d_loss: 1.7724\n",
      "Epoch : [11] ,  a_loss = 370.2307, d_loss: -0.1500,  d_loss: 1.7883\n",
      "Epoch : [12] ,  a_loss = 368.2341, d_loss: -0.1954,  d_loss: 1.8058\n",
      "Epoch : [13] ,  a_loss = 366.2634, d_loss: -0.1915,  d_loss: 1.8079\n",
      "Epoch : [14] ,  a_loss = 364.3643, d_loss: -0.2068,  d_loss: 1.8134\n",
      "Epoch : [15] ,  a_loss = 362.5617, d_loss: -0.1841,  d_loss: 1.8218\n",
      "Epoch : [16] ,  a_loss = 360.8760, d_loss: -0.1940,  d_loss: 1.8239\n",
      "Epoch : [17] ,  a_loss = 359.1996, d_loss: -0.2053,  d_loss: 1.8304\n",
      "Epoch : [18] ,  a_loss = 357.5502, d_loss: -0.1976,  d_loss: 1.8367\n",
      "Epoch : [19] ,  a_loss = 356.0952, d_loss: -0.2268,  d_loss: 1.8416\n",
      "Epoch : [20] ,  a_loss = 354.4667, d_loss: -0.2168,  d_loss: 1.8433\n",
      "Epoch : [21] ,  a_loss = 353.0599, d_loss: -0.2314,  d_loss: 1.8478\n",
      "Epoch : [22] ,  a_loss = 351.6837, d_loss: -0.2571,  d_loss: 1.8501\n",
      "Epoch : [23] ,  a_loss = 350.4950, d_loss: -0.2827,  d_loss: 1.8514\n",
      "Epoch : [24] ,  a_loss = 348.9884, d_loss: -0.1068,  d_loss: 1.8554\n",
      "Epoch : [25] ,  a_loss = 347.6706, d_loss: -0.0109,  d_loss: 1.8641\n",
      "Epoch : [26] ,  a_loss = 346.5117, d_loss: -0.0086,  d_loss: 1.8641\n",
      "Epoch : [27] ,  a_loss = 345.4161, d_loss: -0.0069,  d_loss: 1.8703\n",
      "Epoch : [28] ,  a_loss = 344.3527, d_loss: -0.0057,  d_loss: 1.8745\n",
      "Epoch : [29] ,  a_loss = 343.3823, d_loss: -0.0049,  d_loss: 1.8832\n",
      "Epoch : [30] ,  a_loss = 342.4590, d_loss: -0.0044,  d_loss: 1.8891\n",
      "Epoch : [31] ,  a_loss = 341.3892, d_loss: -0.0040,  d_loss: 1.8945\n",
      "Epoch : [32] ,  a_loss = 340.5009, d_loss: -0.0038,  d_loss: 1.9041\n",
      "Epoch : [33] ,  a_loss = 339.6281, d_loss: -0.0036,  d_loss: 1.9065\n",
      "Epoch : [34] ,  a_loss = 338.8817, d_loss: -0.0032,  d_loss: 1.9170\n",
      "Epoch : [35] ,  a_loss = 338.1522, d_loss: 0.0260,  d_loss: 1.9177\n",
      "Epoch : [36] ,  a_loss = 337.3512, d_loss: -0.0034,  d_loss: 1.9165\n",
      "Epoch : [37] ,  a_loss = 336.5386, d_loss: -0.0033,  d_loss: 1.9226\n",
      "Epoch : [38] ,  a_loss = 335.9172, d_loss: -0.0032,  d_loss: 1.9248\n",
      "Epoch : [39] ,  a_loss = 335.1951, d_loss: -0.0031,  d_loss: 1.9339\n",
      "Epoch : [40] ,  a_loss = 334.4679, d_loss: -0.0031,  d_loss: 1.9420\n",
      "Epoch : [41] ,  a_loss = 333.8589, d_loss: -0.0030,  d_loss: 1.9453\n",
      "Epoch : [42] ,  a_loss = 333.2781, d_loss: -0.0030,  d_loss: 1.9515\n",
      "Epoch : [43] ,  a_loss = 332.7935, d_loss: -0.0029,  d_loss: 1.9556\n",
      "Epoch : [44] ,  a_loss = 332.1122, d_loss: -0.0029,  d_loss: 1.9632\n",
      "Epoch : [45] ,  a_loss = 331.6390, d_loss: -0.0028,  d_loss: 1.9643\n",
      "Epoch : [46] ,  a_loss = 331.0975, d_loss: -0.0028,  d_loss: 1.9643\n",
      "Epoch : [47] ,  a_loss = 330.5653, d_loss: -0.0025,  d_loss: 1.9696\n",
      "Epoch : [48] ,  a_loss = 330.0884, d_loss: -0.0023,  d_loss: 1.9631\n",
      "Epoch : [49] ,  a_loss = 329.6797, d_loss: -0.0024,  d_loss: 1.9709\n",
      "Epoch : [50] ,  a_loss = 329.2208, d_loss: -0.0025,  d_loss: 1.9720\n",
      "Epoch : [51] ,  a_loss = 328.8129, d_loss: -0.0019,  d_loss: 1.9656\n",
      "Epoch : [52] ,  a_loss = 328.4523, d_loss: -0.0026,  d_loss: 1.9667\n",
      "Epoch : [53] ,  a_loss = 327.9526, d_loss: -0.0026,  d_loss: 1.9666\n",
      "Epoch : [54] ,  a_loss = 327.6468, d_loss: -0.0026,  d_loss: 1.9684\n",
      "Epoch : [55] ,  a_loss = 327.2501, d_loss: -0.0026,  d_loss: 1.9684\n",
      "Epoch : [56] ,  a_loss = 326.8667, d_loss: -0.0027,  d_loss: 1.9692\n",
      "Epoch : [57] ,  a_loss = 326.6006, d_loss: -0.0033,  d_loss: 1.9686\n",
      "Epoch : [58] ,  a_loss = 326.2055, d_loss: -0.0068,  d_loss: 1.9706\n",
      "Epoch : [59] ,  a_loss = 325.9373, d_loss: -0.0408,  d_loss: 1.9697\n",
      "Epoch : [60] ,  a_loss = 325.6651, d_loss: -0.0662,  d_loss: 1.9726\n",
      "Epoch : [61] ,  a_loss = 325.3307, d_loss: -0.0792,  d_loss: 1.9720\n",
      "Epoch : [62] ,  a_loss = 325.0490, d_loss: -0.0827,  d_loss: 1.9761\n",
      "Epoch : [63] ,  a_loss = 324.8124, d_loss: -0.0835,  d_loss: 1.9807\n",
      "Epoch : [64] ,  a_loss = 324.5329, d_loss: -0.0878,  d_loss: 1.9758\n",
      "Epoch : [65] ,  a_loss = 324.3173, d_loss: -0.0877,  d_loss: 1.9780\n",
      "Epoch : [66] ,  a_loss = 324.0934, d_loss: -0.0873,  d_loss: 1.9791\n",
      "Epoch : [67] ,  a_loss = 323.7848, d_loss: -0.0909,  d_loss: 1.9820\n",
      "Epoch : [68] ,  a_loss = 323.5757, d_loss: -0.0919,  d_loss: 1.9849\n",
      "Epoch : [69] ,  a_loss = 323.3202, d_loss: -0.0931,  d_loss: 1.9807\n",
      "Epoch : [70] ,  a_loss = 323.1630, d_loss: -0.0882,  d_loss: 1.9789\n",
      "Epoch : [71] ,  a_loss = 322.9253, d_loss: -0.0923,  d_loss: 1.9818\n",
      "Epoch : [72] ,  a_loss = 322.6605, d_loss: -0.0889,  d_loss: 1.9893\n",
      "Epoch : [73] ,  a_loss = 322.5730, d_loss: -0.0930,  d_loss: 1.9887\n",
      "Epoch : [74] ,  a_loss = 322.2991, d_loss: -0.0926,  d_loss: 1.9899\n",
      "Epoch : [75] ,  a_loss = 322.1952, d_loss: -0.0927,  d_loss: 1.9868\n",
      "Epoch : [76] ,  a_loss = 322.0131, d_loss: -0.0890,  d_loss: 1.9850\n",
      "Epoch : [77] ,  a_loss = 321.8016, d_loss: -0.1000,  d_loss: 1.9889\n",
      "Epoch : [78] ,  a_loss = 321.6225, d_loss: -0.0965,  d_loss: 1.9929\n",
      "Epoch : [79] ,  a_loss = 321.5651, d_loss: -0.0962,  d_loss: 1.9931\n",
      "Epoch : [80] ,  a_loss = 321.2856, d_loss: -0.0946,  d_loss: 1.9946\n",
      "Epoch : [81] ,  a_loss = 321.2393, d_loss: -0.0972,  d_loss: 1.9923\n",
      "Epoch : [82] ,  a_loss = 321.0593, d_loss: -0.0987,  d_loss: 1.9921\n",
      "Epoch : [83] ,  a_loss = 320.9659, d_loss: -0.0952,  d_loss: 1.9941\n",
      "Epoch : [84] ,  a_loss = 320.8016, d_loss: -0.0951,  d_loss: 1.9936\n",
      "Epoch : [85] ,  a_loss = 320.6656, d_loss: -0.0957,  d_loss: 1.9933\n",
      "Epoch : [86] ,  a_loss = 320.4904, d_loss: -0.0979,  d_loss: 1.9923\n",
      "Epoch : [87] ,  a_loss = 320.4875, d_loss: -0.0985,  d_loss: 1.9932\n",
      "Epoch : [88] ,  a_loss = 320.2985, d_loss: -0.1007,  d_loss: 1.9980\n",
      "Epoch : [89] ,  a_loss = 320.1294, d_loss: -0.1035,  d_loss: 1.9962\n",
      "Epoch : [90] ,  a_loss = 320.0728, d_loss: -0.0979,  d_loss: 1.9959\n",
      "Epoch : [91] ,  a_loss = 320.0013, d_loss: -0.1015,  d_loss: 1.9963\n",
      "Epoch : [92] ,  a_loss = 319.9008, d_loss: -0.1009,  d_loss: 1.9985\n",
      "Epoch : [93] ,  a_loss = 319.8080, d_loss: -0.1004,  d_loss: 2.0002\n",
      "Epoch : [94] ,  a_loss = 319.7118, d_loss: -0.1017,  d_loss: 1.9971\n",
      "Epoch : [95] ,  a_loss = 319.5902, d_loss: -0.1007,  d_loss: 2.0037\n",
      "Epoch : [96] ,  a_loss = 319.4948, d_loss: -0.1012,  d_loss: 2.0021\n",
      "Epoch : [97] ,  a_loss = 319.3677, d_loss: -0.0991,  d_loss: 2.0001\n",
      "Epoch : [98] ,  a_loss = 319.3179, d_loss: -0.0996,  d_loss: 2.0021\n",
      "Epoch : [99] ,  a_loss = 319.2428, d_loss: -0.1011,  d_loss: 2.0005\n",
      "Epoch : [100] ,  a_loss = 319.1359, d_loss: -0.1005,  d_loss: 2.0060\n",
      "Epoch : [101] ,  a_loss = 319.0354, d_loss: -0.1013,  d_loss: 2.0036\n",
      "Epoch : [102] ,  a_loss = 319.0193, d_loss: -0.1012,  d_loss: 2.0064\n",
      "Epoch : [103] ,  a_loss = 318.8988, d_loss: -0.1021,  d_loss: 2.0057\n",
      "Epoch : [104] ,  a_loss = 318.8222, d_loss: -0.1026,  d_loss: 2.0088\n",
      "Epoch : [105] ,  a_loss = 318.7851, d_loss: -0.1004,  d_loss: 2.0048\n",
      "Epoch : [106] ,  a_loss = 318.6843, d_loss: -0.1037,  d_loss: 2.0110\n",
      "Epoch : [107] ,  a_loss = 318.6857, d_loss: -0.1038,  d_loss: 2.0079\n",
      "Epoch : [108] ,  a_loss = 318.5711, d_loss: -0.1037,  d_loss: 2.0068\n",
      "Epoch : [109] ,  a_loss = 318.4962, d_loss: -0.1041,  d_loss: 2.0107\n",
      "Epoch : [110] ,  a_loss = 318.5160, d_loss: -0.1050,  d_loss: 2.0137\n",
      "Epoch : [111] ,  a_loss = 318.3989, d_loss: -0.1047,  d_loss: 2.0058\n",
      "Epoch : [112] ,  a_loss = 318.3506, d_loss: -0.1043,  d_loss: 2.0135\n",
      "Epoch : [113] ,  a_loss = 318.2659, d_loss: -0.1036,  d_loss: 2.0108\n",
      "Epoch : [114] ,  a_loss = 318.2260, d_loss: -0.1060,  d_loss: 2.0100\n",
      "Epoch : [115] ,  a_loss = 318.1842, d_loss: -0.1055,  d_loss: 2.0116\n",
      "Epoch : [116] ,  a_loss = 318.0460, d_loss: -0.1079,  d_loss: 2.0115\n",
      "Epoch : [117] ,  a_loss = 318.0905, d_loss: -0.1049,  d_loss: 2.0090\n",
      "Epoch : [118] ,  a_loss = 318.0079, d_loss: -0.1037,  d_loss: 2.0107\n",
      "Epoch : [119] ,  a_loss = 318.0085, d_loss: -0.1066,  d_loss: 2.0107\n",
      "Epoch : [120] ,  a_loss = 317.9318, d_loss: -0.1036,  d_loss: 2.0159\n"
     ]
    },
    {
     "name": "stdout",
     "output_type": "stream",
     "text": [
      "Epoch : [121] ,  a_loss = 317.9388, d_loss: -0.1054,  d_loss: 2.0138\n",
      "Epoch : [122] ,  a_loss = 317.8480, d_loss: -0.1088,  d_loss: 2.0125\n",
      "Epoch : [123] ,  a_loss = 317.7860, d_loss: -0.1054,  d_loss: 2.0131\n",
      "Epoch : [124] ,  a_loss = 317.7279, d_loss: -0.1047,  d_loss: 2.0210\n",
      "Epoch : [125] ,  a_loss = 317.6635, d_loss: -0.1067,  d_loss: 2.0146\n",
      "Epoch : [126] ,  a_loss = 317.6117, d_loss: -0.1060,  d_loss: 2.0158\n",
      "Epoch : [127] ,  a_loss = 317.6708, d_loss: -0.1079,  d_loss: 2.0216\n",
      "Epoch : [128] ,  a_loss = 317.5396, d_loss: -0.1050,  d_loss: 2.0215\n",
      "Epoch : [129] ,  a_loss = 317.5764, d_loss: -0.1055,  d_loss: 2.0194\n",
      "Epoch : [130] ,  a_loss = 317.4462, d_loss: -0.1072,  d_loss: 2.0184\n",
      "Epoch : [131] ,  a_loss = 317.4347, d_loss: -0.1047,  d_loss: 2.0219\n",
      "Epoch : [132] ,  a_loss = 317.4475, d_loss: -0.1059,  d_loss: 2.0193\n",
      "Epoch : [133] ,  a_loss = 317.3996, d_loss: -0.1066,  d_loss: 2.0218\n",
      "Epoch : [134] ,  a_loss = 317.3664, d_loss: -0.1063,  d_loss: 2.0207\n",
      "Epoch : [135] ,  a_loss = 317.3240, d_loss: -0.1080,  d_loss: 2.0225\n",
      "Epoch : [136] ,  a_loss = 317.3241, d_loss: -0.1058,  d_loss: 2.0210\n",
      "Epoch : [137] ,  a_loss = 317.3218, d_loss: -0.1042,  d_loss: 2.0252\n",
      "Epoch : [138] ,  a_loss = 317.2559, d_loss: -0.1055,  d_loss: 2.0230\n",
      "Epoch : [139] ,  a_loss = 317.2271, d_loss: -0.1062,  d_loss: 2.0242\n",
      "Epoch : [140] ,  a_loss = 317.1844, d_loss: -0.1053,  d_loss: 2.0198\n",
      "Epoch : [141] ,  a_loss = 317.1356, d_loss: -0.1053,  d_loss: 2.0215\n",
      "Epoch : [142] ,  a_loss = 317.1270, d_loss: -0.1065,  d_loss: 2.0244\n"
     ]
    }
   ],
   "source": [
    "#import model\n",
    "#import model_wo_Dis as model# without Discriminator\n",
    "#import model_wo_BC as model # without Batch Classiifer\n",
    "\n",
    "#import model_scanvi_semisupervised as model\n",
    "#import model_prior as model\n",
    "import model_minibatch as model\n",
    "\n",
    "#import model_only_scanvi as model\n",
    "\n",
    "run_config = tf.ConfigProto()\n",
    "\n",
    "run_config.gpu_options.per_process_gpu_memory_fraction = 0.333\n",
    "run_config.gpu_options.allow_growth = True\n",
    "\n",
    "with tf.Session(config = run_config) as sess:\n",
    "\n",
    "    dreamer = model.scDREAMER(\n",
    "        sess,\n",
    "        epoch = 200,\n",
    "        dataset_name = data_path,\n",
    "        batch = batch_key_dic[name],\n",
    "        cell_type = cell_type_key_dic[name],\n",
    "        name = name\n",
    "        )\n",
    "\n",
    "    dreamer.train_cluster()\n",
    "\n"
   ]
  },
  {
   "cell_type": "code",
   "execution_count": null,
   "metadata": {
    "id": "UMeOH7FmmZ1v"
   },
   "outputs": [],
   "source": []
  }
 ],
 "metadata": {
  "accelerator": "GPU",
  "colab": {
   "collapsed_sections": [],
   "include_colab_link": true,
   "machine_shape": "hm",
   "name": "2109_Classifier.ipynb",
   "provenance": []
  },
  "kernelspec": {
   "display_name": "Python 3 (ipykernel)",
   "language": "python",
   "name": "python3"
  },
  "language_info": {
   "codemirror_mode": {
    "name": "ipython",
    "version": 3
   },
   "file_extension": ".py",
   "mimetype": "text/x-python",
   "name": "python",
   "nbconvert_exporter": "python",
   "pygments_lexer": "ipython3",
   "version": "3.7.11"
  }
 },
 "nbformat": 4,
 "nbformat_minor": 1
}
