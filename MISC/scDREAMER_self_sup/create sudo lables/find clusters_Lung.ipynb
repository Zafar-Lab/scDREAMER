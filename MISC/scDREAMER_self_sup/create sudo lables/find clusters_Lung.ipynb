{
 "cells": [
  {
   "cell_type": "markdown",
   "id": "178a8add-05f9-40ba-8651-75185752bdd6",
   "metadata": {
    "papermill": {
     "duration": 0.011027,
     "end_time": "2023-04-09T14:24:52.844525",
     "exception": false,
     "start_time": "2023-04-09T14:24:52.833498",
     "status": "completed"
    },
    "tags": []
   },
   "source": [
    "# getting number of clusters louvain + gmm"
   ]
  },
  {
   "cell_type": "code",
   "execution_count": 1,
   "id": "bbb716f8-e7ca-42b0-8c12-041997f4f0ac",
   "metadata": {
    "execution": {
     "iopub.execute_input": "2023-04-09T14:24:52.865830Z",
     "iopub.status.busy": "2023-04-09T14:24:52.864820Z",
     "iopub.status.idle": "2023-04-09T14:24:54.577600Z",
     "shell.execute_reply": "2023-04-09T14:24:54.576746Z"
    },
    "papermill": {
     "duration": 1.727002,
     "end_time": "2023-04-09T14:24:54.580715",
     "exception": false,
     "start_time": "2023-04-09T14:24:52.853713",
     "status": "completed"
    },
    "tags": []
   },
   "outputs": [],
   "source": [
    "import scanpy as sc\n",
    "from sklearn.metrics import silhouette_score,calinski_harabasz_score, davies_bouldin_score\n",
    "import pandas as pd\n",
    "import numpy as np\n",
    "import matplotlib.pyplot as plt\n",
    "from sklearn.mixture import GaussianMixture"
   ]
  },
  {
   "cell_type": "code",
   "execution_count": 2,
   "id": "08cde8e9-8644-493d-a751-c33488611cbd",
   "metadata": {
    "execution": {
     "iopub.execute_input": "2023-04-09T14:24:54.587891Z",
     "iopub.status.busy": "2023-04-09T14:24:54.587419Z",
     "iopub.status.idle": "2023-04-09T14:24:54.590843Z",
     "shell.execute_reply": "2023-04-09T14:24:54.590077Z"
    },
    "papermill": {
     "duration": 0.007817,
     "end_time": "2023-04-09T14:24:54.592061",
     "exception": false,
     "start_time": "2023-04-09T14:24:54.584244",
     "status": "completed"
    },
    "tags": [
     "parameters"
    ]
   },
   "outputs": [],
   "source": [
    "dataset = ''"
   ]
  },
  {
   "cell_type": "code",
   "execution_count": 3,
   "id": "207f65b5",
   "metadata": {
    "execution": {
     "iopub.execute_input": "2023-04-09T14:24:54.597268Z",
     "iopub.status.busy": "2023-04-09T14:24:54.596915Z",
     "iopub.status.idle": "2023-04-09T14:24:54.600215Z",
     "shell.execute_reply": "2023-04-09T14:24:54.599613Z"
    },
    "papermill": {
     "duration": 0.007535,
     "end_time": "2023-04-09T14:24:54.601564",
     "exception": false,
     "start_time": "2023-04-09T14:24:54.594029",
     "status": "completed"
    },
    "tags": [
     "injected-parameters"
    ]
   },
   "outputs": [],
   "source": [
    "# Parameters\n",
    "dataset = \"Lung\"\n"
   ]
  },
  {
   "cell_type": "code",
   "execution_count": 4,
   "id": "f2193f78-102d-4ad1-95e3-74fab791c922",
   "metadata": {
    "execution": {
     "iopub.execute_input": "2023-04-09T14:24:54.608179Z",
     "iopub.status.busy": "2023-04-09T14:24:54.607685Z",
     "iopub.status.idle": "2023-04-09T14:24:54.615711Z",
     "shell.execute_reply": "2023-04-09T14:24:54.613078Z"
    },
    "papermill": {
     "duration": 0.015772,
     "end_time": "2023-04-09T14:24:54.619456",
     "exception": false,
     "start_time": "2023-04-09T14:24:54.603684",
     "status": "completed"
    },
    "tags": []
   },
   "outputs": [],
   "source": [
    "\n",
    "batch_key_dic = {'Immune_Human' : 'batch',\n",
    "                 'Lung' : 'batch',\n",
    "                 'Pancreas' : 'tech',\n",
    "                 'Human_Mouse' : 'batch',\n",
    "                 'Human_Retina': \"Batch\",\n",
    "                 \n",
    "                }\n",
    "cell_type_key_dic = {'Immune_Human' : 'final_annotation',\n",
    "                 'Lung' : 'cell_type',\n",
    "                 'Pancreas' : 'celltype',\n",
    "                 'Human_Mouse' : \"celltype\",\n",
    "                 \"Human_Retina\":\"Subcluster\",\n",
    "                    }    \n",
    "\n",
    "dir_path = \"/home/krushna/Documents/Data_integration/SCRNA_Datasets/All_h5ad/\"\n",
    "emb_path = \"/home/krushna/Documents/Data_integration/Othermethods/ourmethod/self-sup/pipeline_tf2 50/step1/\"\n",
    "batch = batch_key_dic[dataset]\n",
    "cell_type = cell_type_key_dic[dataset]"
   ]
  },
  {
   "cell_type": "code",
   "execution_count": 5,
   "id": "822ab4b9-e0b2-45ae-a0e1-0208e4e88bb8",
   "metadata": {
    "execution": {
     "iopub.execute_input": "2023-04-09T14:24:54.632699Z",
     "iopub.status.busy": "2023-04-09T14:24:54.631423Z",
     "iopub.status.idle": "2023-04-09T14:25:31.159179Z",
     "shell.execute_reply": "2023-04-09T14:25:31.158288Z"
    },
    "papermill": {
     "duration": 36.54362,
     "end_time": "2023-04-09T14:25:31.168471",
     "exception": false,
     "start_time": "2023-04-09T14:24:54.624851",
     "status": "completed"
    },
    "tags": []
   },
   "outputs": [
    {
     "name": "stderr",
     "output_type": "stream",
     "text": [
      "/home/krushna/Softwares/Anaconda3/envs/tf2/lib/python3.9/site-packages/tqdm/auto.py:21: TqdmWarning: IProgress not found. Please update jupyter and ipywidgets. See https://ipywidgets.readthedocs.io/en/stable/user_install.html\n",
      "  from .autonotebook import tqdm as notebook_tqdm\n"
     ]
    },
    {
     "data": {
      "text/plain": [
       "AnnData object with n_obs × n_vars = 32472 × 15148\n",
       "    obs: 'dataset', 'location', 'nGene', 'nUMI', 'patientGroup', 'percent.mito', 'protocol', 'sanger_type', 'size_factors', 'sampling_method', 'batch', 'cell_type', 'donor'\n",
       "    uns: 'neighbors'\n",
       "    obsm: 'final_embeddings'\n",
       "    layers: 'counts'\n",
       "    obsp: 'distances', 'connectivities'"
      ]
     },
     "execution_count": 5,
     "metadata": {},
     "output_type": "execute_result"
    }
   ],
   "source": [
    "adata = sc.read_h5ad(dir_path+dataset+'.h5ad')\n",
    "emb_path = emb_path + dataset+'_latent_matrix_c99_step1.csv'\n",
    "final_embedings=pd.read_csv(emb_path, sep=',',header=None).values\n",
    "adata.obsm['final_embeddings'] = final_embedings\n",
    "sc.pp.neighbors(adata, use_rep='final_embeddings')\n",
    "adata"
   ]
  },
  {
   "cell_type": "code",
   "execution_count": 6,
   "id": "ec800d03-7e6a-49b1-bf64-a8e10f62a005",
   "metadata": {
    "execution": {
     "iopub.execute_input": "2023-04-09T14:25:31.177610Z",
     "iopub.status.busy": "2023-04-09T14:25:31.175917Z",
     "iopub.status.idle": "2023-04-09T14:25:31.183803Z",
     "shell.execute_reply": "2023-04-09T14:25:31.183096Z"
    },
    "papermill": {
     "duration": 0.013104,
     "end_time": "2023-04-09T14:25:31.185211",
     "exception": false,
     "start_time": "2023-04-09T14:25:31.172107",
     "status": "completed"
    },
    "tags": []
   },
   "outputs": [
    {
     "name": "stdout",
     "output_type": "stream",
     "text": [
      "number of cell types  17\n"
     ]
    }
   ],
   "source": [
    "number_of_celltypes = len(adata.obs[cell_type].unique())\n",
    "print('number of cell types ',  number_of_celltypes)"
   ]
  },
  {
   "cell_type": "code",
   "execution_count": 7,
   "id": "99655366-b00f-4b9f-b931-c93437f33f42",
   "metadata": {
    "execution": {
     "iopub.execute_input": "2023-04-09T14:25:31.191744Z",
     "iopub.status.busy": "2023-04-09T14:25:31.191459Z",
     "iopub.status.idle": "2023-04-09T14:26:53.813625Z",
     "shell.execute_reply": "2023-04-09T14:26:53.812262Z"
    },
    "papermill": {
     "duration": 82.627907,
     "end_time": "2023-04-09T14:26:53.815840",
     "exception": false,
     "start_time": "2023-04-09T14:25:31.187933",
     "status": "completed"
    },
    "tags": []
   },
   "outputs": [],
   "source": [
    "cluster_res = []\n",
    "for res in list(np.linspace(0.0001, 1.5, num=20)):\n",
    "    #find clusters\n",
    "    sc.tl.leiden(adata, resolution=res) # louvain\n",
    "    noofclus = len(np.unique(adata.obs['leiden']))\n",
    "    cluster_res.append([noofclus,res])"
   ]
  },
  {
   "cell_type": "code",
   "execution_count": 8,
   "id": "5ab720cb-d1b5-4660-bcda-2838cd60971c",
   "metadata": {
    "execution": {
     "iopub.execute_input": "2023-04-09T14:26:53.824618Z",
     "iopub.status.busy": "2023-04-09T14:26:53.824399Z",
     "iopub.status.idle": "2023-04-09T14:26:53.829030Z",
     "shell.execute_reply": "2023-04-09T14:26:53.828591Z"
    },
    "papermill": {
     "duration": 0.010524,
     "end_time": "2023-04-09T14:26:53.830394",
     "exception": false,
     "start_time": "2023-04-09T14:26:53.819870",
     "status": "completed"
    },
    "tags": []
   },
   "outputs": [
    {
     "data": {
      "text/plain": [
       "[[1, 0.0001],\n",
       " [7, 0.0790421052631579],\n",
       " [10, 0.15798421052631578],\n",
       " [11, 0.23692631578947368],\n",
       " [12, 0.3158684210526316],\n",
       " [13, 0.3948105263157895],\n",
       " [16, 0.47375263157894737],\n",
       " [17, 0.5526947368421052],\n",
       " [17, 0.6316368421052632],\n",
       " [18, 0.7105789473684211],\n",
       " [18, 0.789521052631579],\n",
       " [20, 0.8684631578947368],\n",
       " [20, 0.9474052631578948],\n",
       " [21, 1.0263473684210527],\n",
       " [21, 1.1052894736842105],\n",
       " [21, 1.1842315789473685],\n",
       " [23, 1.2631736842105263],\n",
       " [25, 1.3421157894736842],\n",
       " [23, 1.4210578947368422],\n",
       " [26, 1.5]]"
      ]
     },
     "execution_count": 8,
     "metadata": {},
     "output_type": "execute_result"
    }
   ],
   "source": [
    "cluster_res"
   ]
  },
  {
   "cell_type": "code",
   "execution_count": 9,
   "id": "2679363a-848b-409a-8801-9600281c5b9a",
   "metadata": {
    "execution": {
     "iopub.execute_input": "2023-04-09T14:26:53.837915Z",
     "iopub.status.busy": "2023-04-09T14:26:53.837757Z",
     "iopub.status.idle": "2023-04-09T14:34:02.806394Z",
     "shell.execute_reply": "2023-04-09T14:34:02.804613Z"
    },
    "papermill": {
     "duration": 428.974309,
     "end_time": "2023-04-09T14:34:02.808237",
     "exception": false,
     "start_time": "2023-04-09T14:26:53.833928",
     "status": "completed"
    },
    "tags": []
   },
   "outputs": [],
   "source": [
    "# find clusters\n",
    "clusters = []\n",
    "sil_scores = []\n",
    "ch_scores = []\n",
    "bic_scores = []\n",
    "db_scores = []\n",
    "for res in list(np.linspace(0.0001, 1.5, num=20)):\n",
    "    #find clusters\n",
    "    sc.tl.leiden(adata, resolution=res) # louvain\n",
    "    noofclus = len(np.unique(adata.obs['leiden']))\n",
    "    \n",
    "    if noofclus == 1:\n",
    "        continue\n",
    "        \n",
    "    clusters.append(noofclus)\n",
    "    # silhouette_score\n",
    "    sil_score = silhouette_score(adata.obsm['final_embeddings'], adata.obs['leiden'])\n",
    "    sil_scores.append(sil_score)\n",
    "    \n",
    "    #ch score\n",
    "    ch = calinski_harabasz_score(adata.obsm['final_embeddings'], adata.obs['leiden'])\n",
    "    ch_scores.append(ch)\n",
    "    \n",
    "    #db scores\n",
    "    db = davies_bouldin_score(adata.obsm['final_embeddings'], adata.obs['leiden'])\n",
    "    db_scores.append(db)\n",
    "    \n",
    "    # bic \n",
    "    gmm = GaussianMixture(n_components=noofclus).fit(adata.obsm['final_embeddings'])\n",
    "    labels = gmm.predict(adata.obsm['final_embeddings'])\n",
    "    bic = gmm.bic(adata.obsm['final_embeddings'])\n",
    "    bic_scores.append(bic)"
   ]
  },
  {
   "cell_type": "code",
   "execution_count": 10,
   "id": "d4256cf1-c448-4221-b4a3-449169c3082c",
   "metadata": {
    "execution": {
     "iopub.execute_input": "2023-04-09T14:34:02.817610Z",
     "iopub.status.busy": "2023-04-09T14:34:02.817136Z",
     "iopub.status.idle": "2023-04-09T14:34:02.847137Z",
     "shell.execute_reply": "2023-04-09T14:34:02.846505Z"
    },
    "papermill": {
     "duration": 0.03634,
     "end_time": "2023-04-09T14:34:02.848449",
     "exception": false,
     "start_time": "2023-04-09T14:34:02.812109",
     "status": "completed"
    },
    "tags": []
   },
   "outputs": [
    {
     "data": {
      "text/html": [
       "<div>\n",
       "<style scoped>\n",
       "    .dataframe tbody tr th:only-of-type {\n",
       "        vertical-align: middle;\n",
       "    }\n",
       "\n",
       "    .dataframe tbody tr th {\n",
       "        vertical-align: top;\n",
       "    }\n",
       "\n",
       "    .dataframe thead th {\n",
       "        text-align: right;\n",
       "    }\n",
       "</style>\n",
       "<table border=\"1\" class=\"dataframe\">\n",
       "  <thead>\n",
       "    <tr style=\"text-align: right;\">\n",
       "      <th></th>\n",
       "      <th>0</th>\n",
       "      <th>1</th>\n",
       "      <th>2</th>\n",
       "      <th>3</th>\n",
       "      <th>4</th>\n",
       "      <th>5</th>\n",
       "      <th>6</th>\n",
       "      <th>7</th>\n",
       "      <th>8</th>\n",
       "      <th>9</th>\n",
       "      <th>10</th>\n",
       "      <th>11</th>\n",
       "      <th>12</th>\n",
       "      <th>13</th>\n",
       "      <th>14</th>\n",
       "      <th>15</th>\n",
       "      <th>16</th>\n",
       "      <th>17</th>\n",
       "      <th>18</th>\n",
       "    </tr>\n",
       "  </thead>\n",
       "  <tbody>\n",
       "    <tr>\n",
       "      <th>0</th>\n",
       "      <td>7.000000</td>\n",
       "      <td>10.000000</td>\n",
       "      <td>11.000000</td>\n",
       "      <td>12.000000</td>\n",
       "      <td>13.000000</td>\n",
       "      <td>16.000000</td>\n",
       "      <td>17.000000</td>\n",
       "      <td>17.000000</td>\n",
       "      <td>18.000000</td>\n",
       "      <td>18.000000</td>\n",
       "      <td>20.000000</td>\n",
       "      <td>20.000000</td>\n",
       "      <td>21.000000</td>\n",
       "      <td>21.000000</td>\n",
       "      <td>21.000000</td>\n",
       "      <td>23.000000</td>\n",
       "      <td>25.000000</td>\n",
       "      <td>23.000000</td>\n",
       "      <td>26.000000</td>\n",
       "    </tr>\n",
       "    <tr>\n",
       "      <th>1</th>\n",
       "      <td>8033.426823</td>\n",
       "      <td>7056.706726</td>\n",
       "      <td>7835.564753</td>\n",
       "      <td>7766.678638</td>\n",
       "      <td>7635.952466</td>\n",
       "      <td>7013.122468</td>\n",
       "      <td>6733.865949</td>\n",
       "      <td>6751.893967</td>\n",
       "      <td>6361.398102</td>\n",
       "      <td>6376.403808</td>\n",
       "      <td>6207.242827</td>\n",
       "      <td>6235.502355</td>\n",
       "      <td>5992.392848</td>\n",
       "      <td>5960.961138</td>\n",
       "      <td>6075.220168</td>\n",
       "      <td>5754.707703</td>\n",
       "      <td>5493.003015</td>\n",
       "      <td>5765.687407</td>\n",
       "      <td>5283.621049</td>\n",
       "    </tr>\n",
       "    <tr>\n",
       "      <th>2</th>\n",
       "      <td>0.342542</td>\n",
       "      <td>0.349957</td>\n",
       "      <td>0.331955</td>\n",
       "      <td>0.339512</td>\n",
       "      <td>0.334004</td>\n",
       "      <td>0.317700</td>\n",
       "      <td>0.295500</td>\n",
       "      <td>0.295321</td>\n",
       "      <td>0.272987</td>\n",
       "      <td>0.274058</td>\n",
       "      <td>0.260666</td>\n",
       "      <td>0.267607</td>\n",
       "      <td>0.256498</td>\n",
       "      <td>0.253737</td>\n",
       "      <td>0.258275</td>\n",
       "      <td>0.247577</td>\n",
       "      <td>0.233133</td>\n",
       "      <td>0.248396</td>\n",
       "      <td>0.226594</td>\n",
       "    </tr>\n",
       "    <tr>\n",
       "      <th>3</th>\n",
       "      <td>866187.643641</td>\n",
       "      <td>848232.336779</td>\n",
       "      <td>842897.172093</td>\n",
       "      <td>833840.290545</td>\n",
       "      <td>836546.868975</td>\n",
       "      <td>830991.145902</td>\n",
       "      <td>827340.717021</td>\n",
       "      <td>821355.979533</td>\n",
       "      <td>820759.521849</td>\n",
       "      <td>826713.983431</td>\n",
       "      <td>820491.453433</td>\n",
       "      <td>819287.342837</td>\n",
       "      <td>819051.539895</td>\n",
       "      <td>820171.022634</td>\n",
       "      <td>820304.078995</td>\n",
       "      <td>817713.267997</td>\n",
       "      <td>817291.580742</td>\n",
       "      <td>818217.292017</td>\n",
       "      <td>816317.128161</td>\n",
       "    </tr>\n",
       "    <tr>\n",
       "      <th>4</th>\n",
       "      <td>1.156266</td>\n",
       "      <td>0.951192</td>\n",
       "      <td>1.023723</td>\n",
       "      <td>1.034892</td>\n",
       "      <td>1.172465</td>\n",
       "      <td>1.166892</td>\n",
       "      <td>1.190208</td>\n",
       "      <td>1.192707</td>\n",
       "      <td>1.239289</td>\n",
       "      <td>1.238109</td>\n",
       "      <td>1.279444</td>\n",
       "      <td>1.255863</td>\n",
       "      <td>1.290431</td>\n",
       "      <td>1.298442</td>\n",
       "      <td>1.315790</td>\n",
       "      <td>1.321321</td>\n",
       "      <td>1.420743</td>\n",
       "      <td>1.322473</td>\n",
       "      <td>1.446556</td>\n",
       "    </tr>\n",
       "  </tbody>\n",
       "</table>\n",
       "</div>"
      ],
      "text/plain": [
       "              0              1              2              3              4   \\\n",
       "0       7.000000      10.000000      11.000000      12.000000      13.000000   \n",
       "1    8033.426823    7056.706726    7835.564753    7766.678638    7635.952466   \n",
       "2       0.342542       0.349957       0.331955       0.339512       0.334004   \n",
       "3  866187.643641  848232.336779  842897.172093  833840.290545  836546.868975   \n",
       "4       1.156266       0.951192       1.023723       1.034892       1.172465   \n",
       "\n",
       "              5              6              7              8              9   \\\n",
       "0      16.000000      17.000000      17.000000      18.000000      18.000000   \n",
       "1    7013.122468    6733.865949    6751.893967    6361.398102    6376.403808   \n",
       "2       0.317700       0.295500       0.295321       0.272987       0.274058   \n",
       "3  830991.145902  827340.717021  821355.979533  820759.521849  826713.983431   \n",
       "4       1.166892       1.190208       1.192707       1.239289       1.238109   \n",
       "\n",
       "              10             11             12             13             14  \\\n",
       "0      20.000000      20.000000      21.000000      21.000000      21.000000   \n",
       "1    6207.242827    6235.502355    5992.392848    5960.961138    6075.220168   \n",
       "2       0.260666       0.267607       0.256498       0.253737       0.258275   \n",
       "3  820491.453433  819287.342837  819051.539895  820171.022634  820304.078995   \n",
       "4       1.279444       1.255863       1.290431       1.298442       1.315790   \n",
       "\n",
       "              15             16             17             18  \n",
       "0      23.000000      25.000000      23.000000      26.000000  \n",
       "1    5754.707703    5493.003015    5765.687407    5283.621049  \n",
       "2       0.247577       0.233133       0.248396       0.226594  \n",
       "3  817713.267997  817291.580742  818217.292017  816317.128161  \n",
       "4       1.321321       1.420743       1.322473       1.446556  "
      ]
     },
     "execution_count": 10,
     "metadata": {},
     "output_type": "execute_result"
    }
   ],
   "source": [
    "pd.DataFrame([clusters,ch_scores,sil_scores, bic_scores, db_scores])"
   ]
  },
  {
   "cell_type": "code",
   "execution_count": 11,
   "id": "81026061-ce20-43e3-9d8f-ac8d2603b9e3",
   "metadata": {
    "execution": {
     "iopub.execute_input": "2023-04-09T14:34:02.856468Z",
     "iopub.status.busy": "2023-04-09T14:34:02.856246Z",
     "iopub.status.idle": "2023-04-09T14:34:03.377341Z",
     "shell.execute_reply": "2023-04-09T14:34:03.376723Z"
    },
    "papermill": {
     "duration": 0.528227,
     "end_time": "2023-04-09T14:34:03.380267",
     "exception": false,
     "start_time": "2023-04-09T14:34:02.852040",
     "status": "completed"
    },
    "tags": []
   },
   "outputs": [
    {
     "data": {
      "image/png": "[encoded data removed]",
      "text/plain": [
       "<Figure size 432x288 with 1 Axes>"
      ]
     },
     "metadata": {
      "needs_background": "light"
     },
     "output_type": "display_data"
    },
    {
     "data": {
      "image/png": "[encoded data removed]",
      "text/plain": [
       "<Figure size 432x288 with 1 Axes>"
      ]
     },
     "metadata": {
      "needs_background": "light"
     },
     "output_type": "display_data"
    },
    {
     "data": {
      "image/png": "[encoded data removed]",
      "text/plain": [
       "<Figure size 432x288 with 1 Axes>"
      ]
     },
     "metadata": {
      "needs_background": "light"
     },
     "output_type": "display_data"
    },
    {
     "data": {
      "image/png": "[encoded data removed]",
      "text/plain": [
       "<Figure size 432x288 with 1 Axes>"
      ]
     },
     "metadata": {
      "needs_background": "light"
     },
     "output_type": "display_data"
    }
   ],
   "source": [
    "plt.plot(clusters, ch_scores, marker='o')\n",
    "plt.xlabel('Number of clusters')\n",
    "plt.ylabel('ch_scores')\n",
    "plt.title('ch_scores '+dataset+' ideal '+ str(number_of_celltypes))\n",
    "plt.show()\n",
    "\n",
    "plt.plot(clusters, sil_scores, marker='o')\n",
    "plt.xlabel('Number of clusters')\n",
    "plt.ylabel('sil_scores')\n",
    "plt.title('sil_scores '+dataset+' ideal '+ str(number_of_celltypes))\n",
    "plt.show()\n",
    "\n",
    "plt.plot(clusters, bic_scores, marker='o')\n",
    "plt.xlabel('Number of clusters')\n",
    "plt.ylabel('bic_scores')\n",
    "plt.title('bic_scores '+dataset+' ideal '+ str(number_of_celltypes))\n",
    "plt.show()\n",
    "\n",
    "plt.plot(clusters, db_scores, marker='o')\n",
    "plt.xlabel('Number of clusters')\n",
    "plt.ylabel('db_scores')\n",
    "plt.title('db_scores '+dataset+' ideal '+ str(number_of_celltypes))\n",
    "plt.show()"
   ]
  },
  {
   "cell_type": "code",
   "execution_count": 12,
   "id": "b12faccb-48f1-4649-995f-394e931c4a88",
   "metadata": {
    "execution": {
     "iopub.execute_input": "2023-04-09T14:34:03.396059Z",
     "iopub.status.busy": "2023-04-09T14:34:03.395569Z",
     "iopub.status.idle": "2023-04-09T14:34:03.524975Z",
     "shell.execute_reply": "2023-04-09T14:34:03.524478Z"
    },
    "papermill": {
     "duration": 0.140739,
     "end_time": "2023-04-09T14:34:03.528127",
     "exception": false,
     "start_time": "2023-04-09T14:34:03.387388",
     "status": "completed"
    },
    "tags": []
   },
   "outputs": [
    {
     "name": "stderr",
     "output_type": "stream",
     "text": [
      "<ipython-input-12-d3a8007b4db6>:5: RuntimeWarning: divide by zero encountered in double_scalars\n",
      "  slope = (y2-y1)/(x2-x1)\n"
     ]
    },
    {
     "data": {
      "image/png": "[encoded data removed]",
      "text/plain": [
       "<Figure size 432x288 with 1 Axes>"
      ]
     },
     "metadata": {
      "needs_background": "light"
     },
     "output_type": "display_data"
    }
   ],
   "source": [
    "slopes = []\n",
    "for i in range(len(clusters)-1):\n",
    "    x1, x2 = clusters[i], clusters[i+1]\n",
    "    y1, y2 = bic_scores[i], bic_scores[i+1]\n",
    "    slope = (y2-y1)/(x2-x1)\n",
    "    slopes.append(slope)\n",
    "    \n",
    "# bic_deriv = np.gradient(bics, clusters)\n",
    "\n",
    "# plot derivative of BIC curve\n",
    "plt.plot(clusters[:-1], slopes, marker='o')\n",
    "plt.xlabel('Number of clusters')\n",
    "plt.ylabel('BIC derivative')\n",
    "plt.title('Derivative of BIC curve '+ dataset +' ideal ' + str(number_of_celltypes) )\n",
    "plt.show()\n",
    "    "
   ]
  },
  {
   "cell_type": "code",
   "execution_count": 13,
   "id": "6bf70e53-ad63-45a3-80d0-4b6a1ee7bb3f",
   "metadata": {
    "execution": {
     "iopub.execute_input": "2023-04-09T14:34:03.542065Z",
     "iopub.status.busy": "2023-04-09T14:34:03.541551Z",
     "iopub.status.idle": "2023-04-09T14:34:03.545966Z",
     "shell.execute_reply": "2023-04-09T14:34:03.544772Z"
    },
    "papermill": {
     "duration": 0.012363,
     "end_time": "2023-04-09T14:34:03.547632",
     "exception": false,
     "start_time": "2023-04-09T14:34:03.535269",
     "status": "completed"
    },
    "tags": []
   },
   "outputs": [],
   "source": [
    "# bic_deriv = np.gradient(bics, clusters)\n",
    "\n",
    "# # plot derivative of BIC curve\n",
    "# plt.plot(clusters, bic_deriv, marker='o')\n",
    "# plt.xlabel('Number of clusters')\n",
    "# plt.ylabel('BIC derivative')\n",
    "# plt.title('Derivative of BIC curve')\n",
    "# plt.show()"
   ]
  },
  {
   "cell_type": "code",
   "execution_count": null,
   "id": "b072067d-e461-479b-b42d-d95d1c89e921",
   "metadata": {
    "papermill": {
     "duration": 0.007078,
     "end_time": "2023-04-09T14:34:03.564872",
     "exception": false,
     "start_time": "2023-04-09T14:34:03.557794",
     "status": "completed"
    },
    "tags": []
   },
   "outputs": [],
   "source": []
  }
 ],
 "metadata": {
  "kernelspec": {
   "display_name": "Python 3",
   "language": "python",
   "name": "python3"
  },
  "language_info": {
   "codemirror_mode": {
    "name": "ipython",
    "version": 3
   },
   "file_extension": ".py",
   "mimetype": "text/x-python",
   "name": "python",
   "nbconvert_exporter": "python",
   "pygments_lexer": "ipython3",
   "version": "3.9.16"
  },
  "papermill": {
   "default_parameters": {},
   "duration": 553.39168,
   "end_time": "2023-04-09T14:34:05.290125",
   "environment_variables": {},
   "exception": null,
   "input_path": "find clusters.ipynb",
   "output_path": "find clusters_Lung.ipynb",
   "parameters": {
    "dataset": "Lung"
   },
   "start_time": "2023-04-09T14:24:51.898445",
   "version": "2.4.0"
  }
 },
 "nbformat": 4,
 "nbformat_minor": 5
}