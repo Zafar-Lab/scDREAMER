{
 "cells": [
  {
   "cell_type": "code",
   "execution_count": 47,
   "id": "c9bf1b66",
   "metadata": {},
   "outputs": [],
   "source": [
    "import os\n",
    "import torch\n",
    "import argparse\n",
    "import warnings\n",
    "import numpy as np\n",
    "import anndata\n",
    "from sklearn.preprocessing import OneHotEncoder\n",
    "import scanpy as sc\n",
    "import matplotlib.pyplot as plt\n",
    "import pandas as pd\n",
    "#import scDREAMER_train\n",
    "from utils import *\n",
    "from anndata import AnnData"
   ]
  },
  {
   "cell_type": "code",
   "execution_count": 48,
   "id": "c40281eb",
   "metadata": {},
   "outputs": [],
   "source": [
    "def read_data(data_path, batch, cell_type, name, hvg=2000):\n",
    "\n",
    "    Ann = sc.read_h5ad(data_path)\n",
    "   \n",
    "    b = Ann.obs[batch] #.to_list()\n",
    "    batch_info = np.array([[i] for i in b]) \n",
    "    enc = OneHotEncoder(handle_unknown = 'ignore')\n",
    "\n",
    "    enc.fit(batch_info.reshape(-1, 1))\n",
    "    batch_info_enc = enc.transform(batch_info.reshape(-1, 1)).toarray()\n",
    "    Ann.obsm[batch + '_encoded'] = pd.DataFrame(batch_info_enc).to_numpy()\n",
    "\n",
    "    if cell_type is not None:\n",
    "        \n",
    "        labels = Ann.obs[cell_type].to_list()\n",
    "        \n",
    "        c = Ann.obs[cell_type]\n",
    "        cell_info = np.array([[i] for i in c])\n",
    "\n",
    "        enc.fit(cell_info.reshape(-1, 1))\n",
    "        labels_enc = enc.transform(cell_info.reshape(-1, 1)).toarray()\n",
    "\n",
    "        Ann.obsm[cell_type + \"_encoded\"] = pd.DataFrame(labels_enc).to_numpy()\n",
    "       \n",
    "    return Ann"
   ]
  },
  {
   "cell_type": "code",
   "execution_count": 54,
   "id": "dc31bf72",
   "metadata": {},
   "outputs": [],
   "source": [
    "data_path = \"../Pan/Pancreas.h5ad\"\n",
    "batch = 'tech'\n",
    "cell_type = 'celltype'\n",
    "name = 'Pancreas'\n",
    "\n",
    "adata = read_data(data_path, batch, cell_type, name)"
   ]
  },
  {
   "cell_type": "code",
   "execution_count": 46,
   "id": "8460080e",
   "metadata": {},
   "outputs": [
    {
     "data": {
      "text/plain": [
       "array(['acinar', 'activated_stellate', 'alpha', 'beta', 'delta', 'ductal',\n",
       "       'endothelial', 'epsilon', 'gamma', 'macrophage', 'mast',\n",
       "       'quiescent_stellate', 'schwann', 't_cell'], dtype=object)"
      ]
     },
     "execution_count": 46,
     "metadata": {},
     "output_type": "execute_result"
    }
   ],
   "source": [
    "np.unique(adata.obs['celltype'])"
   ]
  },
  {
   "cell_type": "code",
   "execution_count": 50,
   "id": "775eecc5",
   "metadata": {},
   "outputs": [
    {
     "data": {
      "text/plain": [
       "AnnData object with n_obs × n_vars = 16382 × 19093\n",
       "    obs: 'tech', 'celltype', 'size_factors'\n",
       "    obsm: 'tech_encoded', 'celltype_encoded'\n",
       "    layers: 'counts'"
      ]
     },
     "execution_count": 50,
     "metadata": {},
     "output_type": "execute_result"
    }
   ],
   "source": [
    "adata"
   ]
  },
  {
   "cell_type": "code",
   "execution_count": 55,
   "id": "415e5197",
   "metadata": {},
   "outputs": [],
   "source": [
    "sc.pp.subsample(adata, fraction = 0.001)"
   ]
  },
  {
   "cell_type": "code",
   "execution_count": 56,
   "id": "96ae390d",
   "metadata": {},
   "outputs": [
    {
     "data": {
      "text/plain": [
       "AnnData object with n_obs × n_vars = 16 × 19093\n",
       "    obs: 'tech', 'celltype', 'size_factors'\n",
       "    obsm: 'tech_encoded', 'celltype_encoded'\n",
       "    layers: 'counts'"
      ]
     },
     "execution_count": 56,
     "metadata": {},
     "output_type": "execute_result"
    }
   ],
   "source": [
    "adata"
   ]
  },
  {
   "cell_type": "code",
   "execution_count": 57,
   "id": "7a97eb8c",
   "metadata": {},
   "outputs": [],
   "source": [
    "ann = adata.copy()"
   ]
  },
  {
   "cell_type": "code",
   "execution_count": 64,
   "id": "a9644777",
   "metadata": {},
   "outputs": [],
   "source": [
    "pd.DataFrame(ann.X, index = ann.obs_names).iloc[:, :10].to_csv(\"test_anndata.csv\")"
   ]
  },
  {
   "cell_type": "code",
   "execution_count": 65,
   "id": "6d3a36f7",
   "metadata": {},
   "outputs": [
    {
     "data": {
      "text/plain": [
       "HP1525301T2D_D11               smartseq2\n",
       "human3_lib3.final_cell_0536      inDrop3\n",
       "human1_lib3.final_cell_0018      inDrop1\n",
       "D28-2_15                         celseq2\n",
       "D3en4_63                          celseq\n",
       "human3_lib1.final_cell_0779      inDrop3\n",
       "D74_53                            celseq\n",
       "HP1506401_D10                  smartseq2\n",
       "human3_lib4.final_cell_0610      inDrop3\n",
       "HP1526901T2D_N15               smartseq2\n",
       "human1_lib2.final_cell_0189      inDrop1\n",
       "human3_lib3.final_cell_0720      inDrop3\n",
       "D172444_15                        celseq\n",
       "D28-5_63                         celseq2\n",
       "human1_lib2.final_cell_0591      inDrop1\n",
       "human3_lib4.final_cell_0539      inDrop3\n",
       "Name: tech, dtype: category\n",
       "Categories (5, object): ['celseq', 'celseq2', 'inDrop1', 'inDrop3', 'smartseq2']"
      ]
     },
     "execution_count": 65,
     "metadata": {},
     "output_type": "execute_result"
    }
   ],
   "source": [
    "ann.obs['tech']"
   ]
  },
  {
   "cell_type": "code",
   "execution_count": 79,
   "id": "990ec591",
   "metadata": {},
   "outputs": [],
   "source": [
    "sc.pp.subsample(ann, fraction = 1)"
   ]
  },
  {
   "cell_type": "code",
   "execution_count": 80,
   "id": "9cbd1f45",
   "metadata": {},
   "outputs": [],
   "source": [
    "pd.DataFrame(ann.X, index = ann.obs_names).iloc[:, :10].to_csv(\"test_anndata_shuffled_2.csv\")"
   ]
  },
  {
   "cell_type": "code",
   "execution_count": 77,
   "id": "d74b519a",
   "metadata": {},
   "outputs": [
    {
     "data": {
      "text/plain": [
       "D74_53                           beta\n",
       "human1_lib3.final_cell_0018      beta\n",
       "human1_lib2.final_cell_0189      beta\n",
       "HP1506401_D10                  ductal\n",
       "HP1525301T2D_D11                alpha\n",
       "D28-5_63                       acinar\n",
       "human3_lib4.final_cell_0610    acinar\n",
       "human3_lib1.final_cell_0779     alpha\n",
       "human3_lib4.final_cell_0539     alpha\n",
       "human1_lib2.final_cell_0591     alpha\n",
       "D172444_15                     ductal\n",
       "human3_lib3.final_cell_0720     alpha\n",
       "HP1526901T2D_N15                alpha\n",
       "human3_lib3.final_cell_0536    acinar\n",
       "D3en4_63                       ductal\n",
       "D28-2_15                       acinar\n",
       "Name: celltype, dtype: category\n",
       "Categories (4, object): ['acinar', 'alpha', 'beta', 'ductal']"
      ]
     },
     "execution_count": 77,
     "metadata": {},
     "output_type": "execute_result"
    }
   ],
   "source": [
    "ann.obs['celltype']"
   ]
  },
  {
   "cell_type": "code",
   "execution_count": 78,
   "id": "2ca6e937",
   "metadata": {},
   "outputs": [],
   "source": [
    "from sklearn.preprocessing import OneHotEncoder\n",
    "\n",
    "b = ann.obs['tech'] #.to_list()\n",
    "batch_info = np.array([[i] for i in b]) \n",
    "enc = OneHotEncoder(handle_unknown = 'ignore')\n",
    "\n",
    "enc.fit(batch_info.reshape(-1, 1))\n",
    "batch_info_enc = enc.transform(batch_info.reshape(-1, 1)).toarray()\n",
    "ann.obsm[batch + '_encoded'] = pd.DataFrame(batch_info_enc).to_numpy()"
   ]
  },
  {
   "cell_type": "code",
   "execution_count": 81,
   "id": "2b7d0c0a",
   "metadata": {},
   "outputs": [
    {
     "data": {
      "text/plain": [
       "array([[0., 0., 1., 0., 0.],\n",
       "       [0., 0., 0., 1., 0.],\n",
       "       [0., 0., 0., 1., 0.],\n",
       "       [0., 0., 1., 0., 0.],\n",
       "       [0., 0., 0., 1., 0.],\n",
       "       [0., 0., 0., 0., 1.],\n",
       "       [0., 0., 1., 0., 0.],\n",
       "       [1., 0., 0., 0., 0.],\n",
       "       [1., 0., 0., 0., 0.],\n",
       "       [0., 0., 0., 1., 0.],\n",
       "       [0., 1., 0., 0., 0.],\n",
       "       [0., 0., 0., 1., 0.],\n",
       "       [0., 0., 0., 0., 1.],\n",
       "       [1., 0., 0., 0., 0.],\n",
       "       [0., 1., 0., 0., 0.],\n",
       "       [0., 0., 0., 0., 1.]])"
      ]
     },
     "execution_count": 81,
     "metadata": {},
     "output_type": "execute_result"
    }
   ],
   "source": [
    "ann.obsm[batch + '_encoded']"
   ]
  },
  {
   "cell_type": "code",
   "execution_count": 74,
   "id": "bd36a453",
   "metadata": {},
   "outputs": [
    {
     "data": {
      "text/plain": [
       "human3_lib3.final_cell_0536      inDrop3\n",
       "D74_53                            celseq\n",
       "human3_lib4.final_cell_0610      inDrop3\n",
       "HP1526901T2D_N15               smartseq2\n",
       "D28-5_63                         celseq2\n",
       "D3en4_63                          celseq\n",
       "human1_lib3.final_cell_0018      inDrop1\n",
       "human1_lib2.final_cell_0591      inDrop1\n",
       "human1_lib2.final_cell_0189      inDrop1\n",
       "HP1506401_D10                  smartseq2\n",
       "human3_lib4.final_cell_0539      inDrop3\n",
       "human3_lib3.final_cell_0720      inDrop3\n",
       "D28-2_15                         celseq2\n",
       "HP1525301T2D_D11               smartseq2\n",
       "human3_lib1.final_cell_0779      inDrop3\n",
       "D172444_15                        celseq\n",
       "Name: tech, dtype: category\n",
       "Categories (5, object): ['celseq', 'celseq2', 'inDrop1', 'inDrop3', 'smartseq2']"
      ]
     },
     "execution_count": 74,
     "metadata": {},
     "output_type": "execute_result"
    }
   ],
   "source": [
    "ann.obs['tech']"
   ]
  },
  {
   "cell_type": "code",
   "execution_count": null,
   "id": "a1c9c396",
   "metadata": {},
   "outputs": [],
   "source": []
  },
  {
   "cell_type": "code",
   "execution_count": null,
   "id": "cbf7a65b",
   "metadata": {},
   "outputs": [],
   "source": [
    "import scvi\n",
    "scvi.model.SCVI.setup_anndata(adata, layer = \"counts\", batch_key = batch)"
   ]
  },
  {
   "cell_type": "code",
   "execution_count": null,
   "id": "23c9326f",
   "metadata": {},
   "outputs": [],
   "source": [
    "model = scvi.model.SCVI(adata)\n",
    "model.setup_anndata(adata,layer = \"counts\", batch_key = batch)\n",
    "model.view_anndata_setup(adata)"
   ]
  },
  {
   "cell_type": "code",
   "execution_count": 8,
   "id": "c58e6ccb",
   "metadata": {},
   "outputs": [],
   "source": [
    "from scvi.dataloaders import *\n",
    "from scvi.dataloaders._ann_dataloader import AnnDataLoader\n",
    "from scvi.data import *"
   ]
  },
  {
   "cell_type": "code",
   "execution_count": 2,
   "id": "39020241",
   "metadata": {},
   "outputs": [
    {
     "name": "stderr",
     "output_type": "stream",
     "text": [
      "Global seed set to 0\n",
      "/home/ajita/anaconda3/envs/scdreamer_py/lib/python3.9/site-packages/flax/core/frozen_dict.py:169: FutureWarning: jax.tree_util.register_keypaths is deprecated, and will be removed in a future release. Please use `register_pytree_with_keys()` instead.\n",
      "  jax.tree_util.register_keypaths(\n"
     ]
    }
   ],
   "source": [
    "import scvi"
   ]
  },
  {
   "cell_type": "code",
   "execution_count": 6,
   "id": "8e56b6ba",
   "metadata": {},
   "outputs": [
    {
     "ename": "AttributeError",
     "evalue": "module 'scvi.data' has no attribute 'setup_anndata'",
     "output_type": "error",
     "traceback": [
      "\u001b[0;31m---------------------------------------------------------------------------\u001b[0m",
      "\u001b[0;31mAttributeError\u001b[0m                            Traceback (most recent call last)",
      "Cell \u001b[0;32mIn[6], line 2\u001b[0m\n\u001b[1;32m      1\u001b[0m adata\u001b[38;5;241m.\u001b[39mlayers[\u001b[38;5;124m'\u001b[39m\u001b[38;5;124mraw_counts\u001b[39m\u001b[38;5;124m'\u001b[39m] \u001b[38;5;241m=\u001b[39m adata\u001b[38;5;241m.\u001b[39mX\u001b[38;5;241m.\u001b[39mcopy()\n\u001b[0;32m----> 2\u001b[0m \u001b[43mscvi\u001b[49m\u001b[38;5;241;43m.\u001b[39;49m\u001b[43mdata\u001b[49m\u001b[38;5;241;43m.\u001b[39;49m\u001b[43msetup_anndata\u001b[49m(adata,\n\u001b[1;32m      3\u001b[0m                        batch_key \u001b[38;5;241m=\u001b[39m batch,\n\u001b[1;32m      4\u001b[0m                        labels_key \u001b[38;5;241m=\u001b[39m cell_type,\n\u001b[1;32m      5\u001b[0m                        layer \u001b[38;5;241m=\u001b[39m \u001b[38;5;124m'\u001b[39m\u001b[38;5;124mraw_counts\u001b[39m\u001b[38;5;124m'\u001b[39m)\n",
      "\u001b[0;31mAttributeError\u001b[0m: module 'scvi.data' has no attribute 'setup_anndata'"
     ]
    }
   ],
   "source": [
    "adata.layers['raw_counts'] = adata.X.copy()\n",
    "scvi.data.setup_anndata(adata,\n",
    "                       batch_key = batch,\n",
    "                       labels_key = cell_type,\n",
    "                       layer = 'raw_counts')"
   ]
  },
  {
   "cell_type": "code",
   "execution_count": 9,
   "id": "9d381e3c",
   "metadata": {},
   "outputs": [
    {
     "name": "stderr",
     "output_type": "stream",
     "text": [
      "/home/ajita/anaconda3/envs/scdreamer_py/lib/python3.9/site-packages/scvi/data/fields/_layer_field.py:90: UserWarning: adata.X does not contain unnormalized count data. Are you sure this is what you want?\n",
      "  warnings.warn(\n"
     ]
    },
    {
     "ename": "AttributeError",
     "evalue": "'AnnData' object has no attribute 'adata'",
     "output_type": "error",
     "traceback": [
      "\u001b[0;31m---------------------------------------------------------------------------\u001b[0m",
      "\u001b[0;31mAttributeError\u001b[0m                            Traceback (most recent call last)",
      "Cell \u001b[0;32mIn[9], line 3\u001b[0m\n\u001b[1;32m      1\u001b[0m scvi\u001b[38;5;241m.\u001b[39mmodel\u001b[38;5;241m.\u001b[39mSCVI\u001b[38;5;241m.\u001b[39msetup_anndata(adata)\n\u001b[1;32m      2\u001b[0m adata_manager \u001b[38;5;241m=\u001b[39m scvi\u001b[38;5;241m.\u001b[39mmodel\u001b[38;5;241m.\u001b[39mSCVI(adata)\u001b[38;5;241m.\u001b[39madata_manager\n\u001b[0;32m----> 3\u001b[0m splitter \u001b[38;5;241m=\u001b[39m \u001b[43mDataSplitter\u001b[49m\u001b[43m(\u001b[49m\u001b[43madata\u001b[49m\u001b[43m)\u001b[49m\n\u001b[1;32m      4\u001b[0m \u001b[38;5;66;03m#splitter.setup()\u001b[39;00m\n\u001b[1;32m      5\u001b[0m \u001b[38;5;66;03m#train_dataloader = scvi.dataloaders.AnnDataLoader(adata_manager, shuffle = True, batch_size = 128)\u001b[39;00m\n\u001b[1;32m      6\u001b[0m \u001b[38;5;66;03m#train_dl = splitter.train_dataloader()\u001b[39;00m\n",
      "File \u001b[0;32m~/anaconda3/envs/scdreamer_py/lib/python3.9/site-packages/scvi/dataloaders/_data_splitting.py:102\u001b[0m, in \u001b[0;36mDataSplitter.__init__\u001b[0;34m(self, adata_manager, train_size, validation_size, use_gpu, **kwargs)\u001b[0m\n\u001b[1;32m     98\u001b[0m \u001b[38;5;28mself\u001b[39m\u001b[38;5;241m.\u001b[39mdata_loader_kwargs \u001b[38;5;241m=\u001b[39m kwargs\n\u001b[1;32m     99\u001b[0m \u001b[38;5;28mself\u001b[39m\u001b[38;5;241m.\u001b[39muse_gpu \u001b[38;5;241m=\u001b[39m use_gpu\n\u001b[1;32m    101\u001b[0m \u001b[38;5;28mself\u001b[39m\u001b[38;5;241m.\u001b[39mn_train, \u001b[38;5;28mself\u001b[39m\u001b[38;5;241m.\u001b[39mn_val \u001b[38;5;241m=\u001b[39m validate_data_split(\n\u001b[0;32m--> 102\u001b[0m     \u001b[38;5;28;43mself\u001b[39;49m\u001b[38;5;241;43m.\u001b[39;49m\u001b[43madata_manager\u001b[49m\u001b[38;5;241;43m.\u001b[39;49m\u001b[43madata\u001b[49m\u001b[38;5;241m.\u001b[39mn_obs, \u001b[38;5;28mself\u001b[39m\u001b[38;5;241m.\u001b[39mtrain_size, \u001b[38;5;28mself\u001b[39m\u001b[38;5;241m.\u001b[39mvalidation_size\n\u001b[1;32m    103\u001b[0m )\n",
      "\u001b[0;31mAttributeError\u001b[0m: 'AnnData' object has no attribute 'adata'"
     ]
    }
   ],
   "source": [
    "scvi.model.SCVI.setup_anndata(adata)\n",
    "adata_manager = scvi.model.SCVI(adata).adata_manager\n",
    "\n"
   ]
  },
  {
   "cell_type": "code",
   "execution_count": 16,
   "id": "2aca3263",
   "metadata": {},
   "outputs": [],
   "source": [
    "ad1 = AnnDataLoader(adata_manager, shuffle = False, batch_size = 10)\n",
    "\n",
    "data_batch = next(tensors for tensors in ad1)"
   ]
  },
  {
   "cell_type": "code",
   "execution_count": 10,
   "id": "9ee29622",
   "metadata": {},
   "outputs": [],
   "source": [
    "#fields = [LayerField(\"counts\", \"raw_counts\")]\n",
    "adata_manager = AnnDataManager()\n",
    "adata_manager.register_fields(adata)"
   ]
  },
  {
   "cell_type": "code",
   "execution_count": 18,
   "id": "d62460c0",
   "metadata": {},
   "outputs": [
    {
     "data": {
      "text/plain": [
       "<scvi.dataloaders._ann_dataloader.AnnDataLoader at 0x7f47209a9be0>"
      ]
     },
     "execution_count": 18,
     "metadata": {},
     "output_type": "execute_result"
    }
   ],
   "source": [
    "ad1"
   ]
  },
  {
   "cell_type": "code",
   "execution_count": 13,
   "id": "7bbec9ce",
   "metadata": {},
   "outputs": [],
   "source": [
    "splitter = DataSplitter(adata_manager)"
   ]
  },
  {
   "cell_type": "code",
   "execution_count": 14,
   "id": "13fc0155",
   "metadata": {},
   "outputs": [],
   "source": [
    "splitter.setup()\n",
    "#train_dataloader = scvi.dataloaders.AnnDataLoader(adata_manager, shuffle = True, batch_size = 128)\n",
    "train_dl = splitter.train_dataloader()"
   ]
  },
  {
   "cell_type": "code",
   "execution_count": 15,
   "id": "62e29ed8",
   "metadata": {},
   "outputs": [
    {
     "data": {
      "text/plain": [
       "<scvi.dataloaders._ann_dataloader.AnnDataLoader at 0x7f47209a79d0>"
      ]
     },
     "execution_count": 15,
     "metadata": {},
     "output_type": "execute_result"
    }
   ],
   "source": [
    "train_dl"
   ]
  },
  {
   "cell_type": "code",
   "execution_count": null,
   "id": "4fb37c1e",
   "metadata": {},
   "outputs": [],
   "source": [
    "!python scDREAMER_run.py"
   ]
  },
  {
   "cell_type": "code",
   "execution_count": 19,
   "id": "b5da41be",
   "metadata": {},
   "outputs": [
    {
     "data": {
      "text/plain": [
       "AnnData object with n_obs × n_vars = 16382 × 19093\n",
       "    obs: 'tech', 'celltype', 'size_factors', '_scvi_batch', '_scvi_labels'\n",
       "    uns: '_scvi_uuid', '_scvi_manager_uuid'\n",
       "    obsm: 'tech_encoded', 'celltype_encoded'\n",
       "    layers: 'counts', 'raw_counts'"
      ]
     },
     "execution_count": 19,
     "metadata": {},
     "output_type": "execute_result"
    }
   ],
   "source": [
    "adata"
   ]
  },
  {
   "cell_type": "code",
   "execution_count": 26,
   "id": "9a591a09",
   "metadata": {},
   "outputs": [
    {
     "data": {
      "text/plain": [
       "array([[0.       , 3.1511765, 0.       , ..., 0.       , 1.1095682,\n",
       "        3.2738605],\n",
       "       [0.       , 0.       , 0.       , ..., 0.       , 0.       ,\n",
       "        0.       ],\n",
       "       [0.       , 0.       , 0.       , ..., 0.       , 0.       ,\n",
       "        0.       ],\n",
       "       ...,\n",
       "       [0.       , 0.       , 3.3839343, ..., 4.059979 , 0.       ,\n",
       "        3.3839343],\n",
       "       [0.       , 0.       , 0.       , ..., 0.       , 0.       ,\n",
       "        0.       ],\n",
       "       [3.5026364, 2.6305318, 0.       , ..., 2.6305318, 0.       ,\n",
       "        0.       ]], dtype=float32)"
      ]
     },
     "execution_count": 26,
     "metadata": {},
     "output_type": "execute_result"
    }
   ],
   "source": [
    "adata.X"
   ]
  },
  {
   "cell_type": "code",
   "execution_count": 25,
   "id": "59804665",
   "metadata": {},
   "outputs": [
    {
     "data": {
      "text/plain": [
       "array([[0., 0., 0., ..., 0., 0., 1.],\n",
       "       [0., 0., 0., ..., 0., 0., 0.],\n",
       "       [0., 0., 0., ..., 0., 0., 0.],\n",
       "       ...,\n",
       "       [0., 0., 0., ..., 0., 0., 0.],\n",
       "       [0., 0., 0., ..., 0., 0., 0.],\n",
       "       [0., 0., 0., ..., 0., 0., 1.]])"
      ]
     },
     "execution_count": 25,
     "metadata": {},
     "output_type": "execute_result"
    }
   ],
   "source": [
    "adata.obsm['tech_encoded']"
   ]
  },
  {
   "cell_type": "code",
   "execution_count": 27,
   "id": "d0b948ab",
   "metadata": {},
   "outputs": [],
   "source": [
    "sc.pp.subsample(adata, fraction = 1)"
   ]
  },
  {
   "cell_type": "code",
   "execution_count": 30,
   "id": "eeb4c3f7",
   "metadata": {},
   "outputs": [
    {
     "data": {
      "text/plain": [
       "16382"
      ]
     },
     "execution_count": 30,
     "metadata": {},
     "output_type": "execute_result"
    }
   ],
   "source": [
    "len(adata)"
   ]
  },
  {
   "cell_type": "code",
   "execution_count": 28,
   "id": "efd19552",
   "metadata": {},
   "outputs": [
    {
     "data": {
      "text/plain": [
       "array([[0.        , 0.        , 0.        , ..., 2.6780741 , 0.        ,\n",
       "        0.85423183],\n",
       "       [0.        , 0.        , 0.        , ..., 0.        , 0.        ,\n",
       "        0.        ],\n",
       "       [0.        , 3.3239179 , 0.        , ..., 0.        , 0.        ,\n",
       "        0.        ],\n",
       "       ...,\n",
       "       [0.5292459 , 1.0094638 , 2.5541277 , ..., 3.9893825 , 0.        ,\n",
       "        0.29923445],\n",
       "       [0.        , 0.        , 0.        , ..., 3.4904613 , 0.        ,\n",
       "        0.        ],\n",
       "       [0.        , 0.        , 0.        , ..., 0.        , 0.        ,\n",
       "        0.        ]], dtype=float32)"
      ]
     },
     "execution_count": 28,
     "metadata": {},
     "output_type": "execute_result"
    }
   ],
   "source": [
    "adata.X"
   ]
  },
  {
   "cell_type": "code",
   "execution_count": 29,
   "id": "5339aee7",
   "metadata": {},
   "outputs": [
    {
     "data": {
      "text/plain": [
       "array([[0., 0., 0., ..., 0., 0., 1.],\n",
       "       [0., 0., 0., ..., 1., 0., 0.],\n",
       "       [0., 1., 0., ..., 0., 0., 0.],\n",
       "       ...,\n",
       "       [0., 0., 0., ..., 0., 0., 1.],\n",
       "       [1., 0., 0., ..., 0., 0., 0.],\n",
       "       [0., 0., 0., ..., 0., 0., 0.]])"
      ]
     },
     "execution_count": 29,
     "metadata": {},
     "output_type": "execute_result"
    }
   ],
   "source": [
    "adata.obsm['tech_encoded']"
   ]
  },
  {
   "cell_type": "code",
   "execution_count": null,
   "id": "f2ad300f",
   "metadata": {},
   "outputs": [],
   "source": [
    "data = np.log2(data+1)\n",
    "scale = np.max(data)\n",
    "data /= scale "
   ]
  },
  {
   "cell_type": "code",
   "execution_count": 33,
   "id": "f1f4fbbc",
   "metadata": {},
   "outputs": [],
   "source": [
    "adata.X = np.log2(adata.X + 1)/np.max(adata.X)"
   ]
  },
  {
   "cell_type": "code",
   "execution_count": 38,
   "id": "7e4531bf",
   "metadata": {},
   "outputs": [
    {
     "data": {
      "text/plain": [
       "(16382, 128)"
      ]
     },
     "execution_count": 38,
     "metadata": {},
     "output_type": "execute_result"
    }
   ],
   "source": [
    "adata.X[:,: 128].shape"
   ]
  },
  {
   "cell_type": "code",
   "execution_count": 40,
   "id": "406ad0a6",
   "metadata": {},
   "outputs": [
    {
     "data": {
      "text/plain": [
       "(16382, 9)"
      ]
     },
     "execution_count": 40,
     "metadata": {},
     "output_type": "execute_result"
    }
   ],
   "source": [
    "adata.obsm['tech_encoded'][:, :128].shape"
   ]
  },
  {
   "cell_type": "code",
   "execution_count": 42,
   "id": "08071f50",
   "metadata": {},
   "outputs": [
    {
     "data": {
      "text/plain": [
       "9"
      ]
     },
     "execution_count": 42,
     "metadata": {},
     "output_type": "execute_result"
    }
   ],
   "source": [
    "len(adata.obs['tech'].unique())"
   ]
  }
 ],
 "metadata": {
  "kernelspec": {
   "display_name": "Python 3 (ipykernel)",
   "language": "python",
   "name": "python3"
  },
  "language_info": {
   "codemirror_mode": {
    "name": "ipython",
    "version": 3
   },
   "file_extension": ".py",
   "mimetype": "text/x-python",
   "name": "python",
   "nbconvert_exporter": "python",
   "pygments_lexer": "ipython3",
   "version": "3.9.16"
  }
 },
 "nbformat": 4,
 "nbformat_minor": 5
}
