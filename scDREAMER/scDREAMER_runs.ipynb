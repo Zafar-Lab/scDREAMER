{
 "cells": [
  {
   "cell_type": "markdown",
   "metadata": {
    "colab_type": "text",
    "id": "view-in-github"
   },
   "source": [
    "<a href=\"https://colab.research.google.com/github/Zafar-Lab/scDREAMER/blob/main/2109_Classifier.ipynb\" target=\"_parent\"><img src=\"https://colab.research.google.com/assets/colab-badge.svg\" alt=\"Open In Colab\"/></a>"
   ]
  },
  {
   "cell_type": "code",
   "execution_count": 1,
   "metadata": {},
   "outputs": [
    {
     "name": "stderr",
     "output_type": "stream",
     "text": [
      "2023-09-11 12:44:51.101945: I tensorflow/core/platform/cpu_feature_guard.cc:182] This TensorFlow binary is optimized to use available CPU instructions in performance-critical operations.\n",
      "To enable the following instructions: AVX2 AVX512F FMA, in other operations, rebuild TensorFlow with the appropriate compiler flags.\n",
      "2023-09-11 12:44:51.739578: W tensorflow/compiler/tf2tensorrt/utils/py_utils.cc:38] TF-TRT Warning: Could not find TensorRT\n"
     ]
    },
    {
     "name": "stdout",
     "output_type": "stream",
     "text": [
      "WARNING:tensorflow:From /home/ajita/anaconda3/lib/python3.9/site-packages/tensorflow/python/compat/v2_compat.py:107: disable_resource_variables (from tensorflow.python.ops.variable_scope) is deprecated and will be removed in a future version.\n",
      "Instructions for updating:\n",
      "non-resource variables are not supported in the long term\n"
     ]
    },
    {
     "data": {
      "text/plain": [
       "902269"
      ]
     },
     "execution_count": 1,
     "metadata": {},
     "output_type": "execute_result"
    }
   ],
   "source": [
    "import warnings\n",
    "warnings.filterwarnings('ignore')\n",
    "\n",
    "import os\n",
    "os.environ[\"CUDA_VISIBLE_DEVICES\"] = \"0\" # difference between gpu '0' and '1'\n",
    "\n",
    "import numpy as np\n",
    "import tensorflow as tf2\n",
    "import random\n",
    "import tensorflow.compat.v1 as tf\n",
    "tf.disable_v2_behavior()\n",
    "\n",
    "import scipy.io\n",
    "from sklearn.decomposition import PCA\n",
    "import pdb\n",
    "\n",
    "import pandas as pd\n",
    "import scanpy as sc\n",
    "\n",
    "\n",
    "import scipy.sparse\n",
    "from sklearn.metrics.cluster import normalized_mutual_info_score as nmi\n",
    "from sklearn.cluster import KMeans\n",
    "from sklearn.mixture import GaussianMixture\n",
    "from scipy import stats \n",
    "from scipy import * \n",
    "import datetime \n",
    "from sklearn.preprocessing import OneHotEncoder\n",
    "from sklearn.preprocessing import LabelEncoder\n",
    "\n",
    "os.getpid()\n"
   ]
  },
  {
   "cell_type": "code",
   "execution_count": 2,
   "metadata": {},
   "outputs": [],
   "source": [
    "\n",
    "np.random.seed(0)\n",
    "tf.set_random_seed(0)\n",
    "random.seed(0)\n",
    "tf2.random.set_seed(0)\n",
    "tf2.keras.utils.set_random_seed(0)\n"
   ]
  },
  {
   "cell_type": "markdown",
   "metadata": {
    "id": "XnC_XfBeHHq-"
   },
   "source": [
    "Building model"
   ]
  },
  {
   "cell_type": "code",
   "execution_count": 3,
   "metadata": {},
   "outputs": [],
   "source": [
    "name = \"Immune_Human\""
   ]
  },
  {
   "cell_type": "code",
   "execution_count": 4,
   "metadata": {},
   "outputs": [],
   "source": [
    "\n",
    "\"\"\"\n",
    "Specify path of the input data here...\n",
    "\"\"\"\n",
    "\n",
    "data_path = {\n",
    "\"Immune_Human\" : \"/home/ajita/Documents/data_integration/Immune/Immune_ALL_human.h5ad\",\n",
    "}\n",
    "\n",
    "\n",
    "batch_key_dict = {'Immune_Human' : 'batch',\n",
    "                 'Lung' : 'batch',\n",
    "                 'Pancreas' : 'tech',\n",
    "                 'Human_Mouse' : 'batch',\n",
    "                 'Human_Retina': \"Batch\",\n",
    "                 \"Healthy_Heart\" : \"sampleID\"\n",
    "                 \n",
    "                }\n",
    "cell_type_key_dict = {'Immune_Human' : 'final_annotation',\n",
    "                 'Lung' : 'cell_type',  \n",
    "                 'Pancreas' : 'celltype', \n",
    "                 'Human_Mouse' : \"celltype\", \n",
    "                 \"Human_Retina\":\"Subcluster\",\n",
    "                \"Healthy_Heart\" : \"celltype\"\n",
    "                }    \n",
    "\n",
    "\n",
    "learning_rate = {\n",
    "                 'Immune_Human' : {\"lr_ae\" : 0.0002, \"lr_dis\": 0.0007}, # Small Datasets\n",
    "                 'Human_Mouse' : {\"lr_ae\" : 0.0001, \"lr_dis\": 0.00001}} # Big Datasets >= 0.5 million cells\n",
    "\n"
   ]
  },
  {
   "cell_type": "code",
   "execution_count": null,
   "metadata": {
    "colab": {
     "base_uri": "https://localhost:8080/",
     "height": 1000
    },
    "id": "Lu41SpbIteg2",
    "outputId": "b4dd5296-7e6a-4b8c-f2d7-803ffd8a9768",
    "scrolled": false
   },
   "outputs": [],
   "source": [
    "    \n",
    "# add avg of losses,\n",
    "\n",
    "import model as model\n",
    "\n",
    "\n",
    "run_config = tf.ConfigProto()\n",
    "\n",
    "run_config.gpu_options.per_process_gpu_memory_fraction = 0.333\n",
    "run_config.gpu_options.allow_growth = True\n",
    "\n",
    "with tf.Session(config = run_config) as sess:\n",
    "\n",
    "    dreamer = model.scDREAMER(\n",
    "        sess,\n",
    "        epoch = 250,\n",
    "        dataset_name = data_path[name],\n",
    "        batch = batch_key_dict[name],\n",
    "        cell_type = cell_type_key_dict[name],\n",
    "        name = name,\n",
    "        lr_ae = learning_rate[name]['lr_ae'],\n",
    "        lr_dis = learning_rate[name]['lr_dis']\n",
    "        )\n",
    "\n",
    "    dreamer.train_cluster()\n",
    "\n"
   ]
  },
  {
   "cell_type": "code",
   "execution_count": null,
   "metadata": {
    "id": "UMeOH7FmmZ1v"
   },
   "outputs": [],
   "source": []
  }
 ],
 "metadata": {
  "accelerator": "GPU",
  "colab": {
   "collapsed_sections": [],
   "include_colab_link": true,
   "machine_shape": "hm",
   "name": "2109_Classifier.ipynb",
   "provenance": []
  },
  "kernelspec": {
   "display_name": "Python 3 (ipykernel)",
   "language": "python",
   "name": "python3"
  },
  "language_info": {
   "codemirror_mode": {
    "name": "ipython",
    "version": 3
   },
   "file_extension": ".py",
   "mimetype": "text/x-python",
   "name": "python",
   "nbconvert_exporter": "python",
   "pygments_lexer": "ipython3",
   "version": "3.9.7"
  }
 },
 "nbformat": 4,
 "nbformat_minor": 1
}
