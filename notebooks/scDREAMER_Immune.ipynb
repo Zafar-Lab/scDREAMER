{
 "cells": [
  {
   "cell_type": "markdown",
   "metadata": {
    "colab_type": "text",
    "id": "view-in-github"
   },
   "source": [
    "<a href=\"https://colab.research.google.com/github/Zafar-Lab/scDREAMER/blob/main/2109_Classifier.ipynb\" target=\"_parent\"><img src=\"https://colab.research.google.com/assets/colab-badge.svg\" alt=\"Open In Colab\"/></a>"
   ]
  },
  {
   "cell_type": "code",
   "execution_count": 1,
   "metadata": {
    "colab": {
     "base_uri": "https://localhost:8080/"
    },
    "id": "tFClw2C_Vndb",
    "outputId": "1ba19649-e6ea-465d-bac4-418c14e7ec68"
   },
   "outputs": [],
   "source": [
    "#%tensorflow_version 1.x"
   ]
  },
  {
   "cell_type": "code",
   "execution_count": 2,
   "metadata": {
    "id": "ba6OBfX1gnzG"
   },
   "outputs": [],
   "source": [
    "import tensorflow as tf"
   ]
  },
  {
   "cell_type": "code",
   "execution_count": 3,
   "metadata": {
    "colab": {
     "base_uri": "https://localhost:8080/"
    },
    "id": "Go9Bo6ceSDoO",
    "outputId": "cc70a49c-de00-40ab-cbad-b6dd27139c2a"
   },
   "outputs": [
    {
     "data": {
      "text/plain": [
       "'\\n!pip install -U scipy==1.5.0\\n!pip install scanpy==1.8.2\\n!pip install -U scikit-learn\\n'"
      ]
     },
     "execution_count": 3,
     "metadata": {},
     "output_type": "execute_result"
    }
   ],
   "source": [
    "import warnings\n",
    "warnings.filterwarnings('ignore')\n",
    "\"\"\"\n",
    "!pip install -U scipy==1.5.0\n",
    "!pip install scanpy==1.8.2\n",
    "!pip install -U scikit-learn\n",
    "\"\"\""
   ]
  },
  {
   "cell_type": "code",
   "execution_count": 4,
   "metadata": {
    "colab": {
     "base_uri": "https://localhost:8080/"
    },
    "id": "Anh-RJEZVJ3R",
    "outputId": "fa98b97f-803f-4f74-89d6-053a00ab8f63"
   },
   "outputs": [],
   "source": [
    "#from google.colab import drive\n",
    "#drive.mount('/content/drive')"
   ]
  },
  {
   "cell_type": "code",
   "execution_count": 5,
   "metadata": {
    "id": "hSANW-xEVJx3"
   },
   "outputs": [],
   "source": [
    "import os\n",
    "import numpy as np"
   ]
  },
  {
   "cell_type": "code",
   "execution_count": 6,
   "metadata": {
    "id": "purv3YeibJgw"
   },
   "outputs": [
    {
     "name": "stderr",
     "output_type": "stream",
     "text": [
      "WARNING: Logging before flag parsing goes to stderr.\n",
      "W0311 19:36:16.863531 139654069150528 module_wrapper.py:139] From /tmp/ipykernel_1420864/734876430.py:1: The name tf.enable_eager_execution is deprecated. Please use tf.compat.v1.enable_eager_execution instead.\n",
      "\n",
      "W0311 19:36:16.865299 139654069150528 module_wrapper.py:139] From /tmp/ipykernel_1420864/734876430.py:3: The name tf.set_random_seed is deprecated. Please use tf.compat.v1.set_random_seed instead.\n",
      "\n"
     ]
    }
   ],
   "source": [
    "tf.enable_eager_execution()\n",
    "np.random.seed(0)\n",
    "tf.set_random_seed(0)"
   ]
  },
  {
   "cell_type": "markdown",
   "metadata": {
    "id": "XnC_XfBeHHq-"
   },
   "source": [
    "Building model"
   ]
  },
  {
   "cell_type": "code",
   "execution_count": 7,
   "metadata": {},
   "outputs": [
    {
     "name": "stdout",
     "output_type": "stream",
     "text": [
      "/home/ajita/Documents/data_integration/scDREAMER/scDREAMER\n"
     ]
    }
   ],
   "source": [
    "import os\n",
    "print (os.getcwd())"
   ]
  },
  {
   "cell_type": "code",
   "execution_count": 8,
   "metadata": {},
   "outputs": [],
   "source": [
    "data_path = \"/home/ajita/Documents/data_integration/Immune/Immune_ALL_human.h5ad\"\n",
    "#data_path = \"/home/ajita/Documents/data_integration/Human_Retina/Human_Retina.h5ad\"\n",
    "#Lung_wrong_label_10\n",
    "#data_path = \"/home/ajita/Documents/data_integration/Lung/Lung_wrong_label_10.h5ad\"\n",
    "#data_path = \"/home/ajita/Documents/data_integration/Immune/Immune_Human_NA_0.2.h5ad\" #0.2.\n"
   ]
  },
  {
   "cell_type": "code",
   "execution_count": 9,
   "metadata": {},
   "outputs": [],
   "source": [
    "name = \"Immune_Human\"\n",
    "\n",
    "batch_key_dic = {'Immune_Human' : 'batch',\n",
    "                 'Lung' : 'batch',\n",
    "                 'Pancreas' : 'tech',\n",
    "                 'Human_Mouse' : 'batch',\n",
    "                 'Human_Retina': \"Batch\"\n",
    "                 \n",
    "                }\n",
    "cell_type_key_dic = {'Immune_Human' : 'final_annotation', # 16\n",
    "                 'Lung' : 'cell_type', # \n",
    "                 'Pancreas' : 'celltype', #\n",
    "                 'Human_Mouse' : \"celltype\", #\n",
    "                 \"Human_Retina\":\"Subcluster\" #\n",
    "                    }    \n",
    "our_method_emb_dic = {'Immune_Human' : 'Immune_Human_case2_latent_matrix_c_300',\n",
    "                 'Lung' : 'Lung_case2_latent_matrix_c_300',\n",
    "                 'Pancreas' : 'Pancreas_case2_latent_matrix_c_250',\n",
    "                 'Human_Retina': \"retina_case2_latent_matrix_c_300\"    \n",
    "                }  "
   ]
  },
  {
   "cell_type": "code",
   "execution_count": null,
   "metadata": {
    "colab": {
     "base_uri": "https://localhost:8080/",
     "height": 1000
    },
    "id": "Lu41SpbIteg2",
    "outputId": "b4dd5296-7e6a-4b8c-f2d7-803ffd8a9768"
   },
   "outputs": [
    {
     "name": "stderr",
     "output_type": "stream",
     "text": [
      "W0311 19:36:17.671819 139654069150528 module_wrapper.py:139] From /tmp/ipykernel_1420864/1262901589.py:9: The name tf.ConfigProto is deprecated. Please use tf.compat.v1.ConfigProto instead.\n",
      "\n",
      "W0311 19:36:17.673511 139654069150528 module_wrapper.py:139] From /tmp/ipykernel_1420864/1262901589.py:14: The name tf.Session is deprecated. Please use tf.compat.v1.Session instead.\n",
      "\n",
      "2023-03-11 19:36:17.674885: I tensorflow/core/platform/cpu_feature_guard.cc:142] Your CPU supports instructions that this TensorFlow binary was not compiled to use: AVX2 AVX512F FMA\n",
      "2023-03-11 19:36:17.706663: I tensorflow/core/platform/profile_utils/cpu_utils.cc:94] CPU Frequency: 2300000000 Hz\n",
      "2023-03-11 19:36:17.715130: I tensorflow/compiler/xla/service/service.cc:168] XLA service 0x5628bacb4ec0 initialized for platform Host (this does not guarantee that XLA will be used). Devices:\n",
      "2023-03-11 19:36:17.715179: I tensorflow/compiler/xla/service/service.cc:176]   StreamExecutor device (0): Host, Default Version\n",
      "2023-03-11 19:36:17.719630: I tensorflow/stream_executor/platform/default/dso_loader.cc:44] Successfully opened dynamic library libcuda.so.1\n",
      "2023-03-11 19:36:17.913067: I tensorflow/compiler/xla/service/service.cc:168] XLA service 0x5628bac80020 initialized for platform CUDA (this does not guarantee that XLA will be used). Devices:\n",
      "2023-03-11 19:36:17.913124: I tensorflow/compiler/xla/service/service.cc:176]   StreamExecutor device (0): Quadro RTX 5000, Compute Capability 7.5\n",
      "2023-03-11 19:36:17.913142: I tensorflow/compiler/xla/service/service.cc:176]   StreamExecutor device (1): Quadro RTX 5000, Compute Capability 7.5\n",
      "2023-03-11 19:36:17.914486: I tensorflow/core/common_runtime/gpu/gpu_device.cc:1639] Found device 0 with properties: \n",
      "name: Quadro RTX 5000 major: 7 minor: 5 memoryClockRate(GHz): 1.815\n",
      "pciBusID: 0000:af:00.0\n",
      "2023-03-11 19:36:17.915007: I tensorflow/core/common_runtime/gpu/gpu_device.cc:1639] Found device 1 with properties: \n",
      "name: Quadro RTX 5000 major: 7 minor: 5 memoryClockRate(GHz): 1.815\n",
      "pciBusID: 0000:d8:00.0\n",
      "2023-03-11 19:36:17.915242: W tensorflow/stream_executor/platform/default/dso_loader.cc:55] Could not load dynamic library 'libcudart.so.10.0'; dlerror: libcudart.so.10.0: cannot open shared object file: No such file or directory\n",
      "2023-03-11 19:36:17.915399: W tensorflow/stream_executor/platform/default/dso_loader.cc:55] Could not load dynamic library 'libcublas.so.10.0'; dlerror: libcublas.so.10.0: cannot open shared object file: No such file or directory\n",
      "2023-03-11 19:36:17.915536: W tensorflow/stream_executor/platform/default/dso_loader.cc:55] Could not load dynamic library 'libcufft.so.10.0'; dlerror: libcufft.so.10.0: cannot open shared object file: No such file or directory\n",
      "2023-03-11 19:36:17.915674: W tensorflow/stream_executor/platform/default/dso_loader.cc:55] Could not load dynamic library 'libcurand.so.10.0'; dlerror: libcurand.so.10.0: cannot open shared object file: No such file or directory\n",
      "2023-03-11 19:36:17.915805: W tensorflow/stream_executor/platform/default/dso_loader.cc:55] Could not load dynamic library 'libcusolver.so.10.0'; dlerror: libcusolver.so.10.0: cannot open shared object file: No such file or directory\n",
      "2023-03-11 19:36:17.915933: W tensorflow/stream_executor/platform/default/dso_loader.cc:55] Could not load dynamic library 'libcusparse.so.10.0'; dlerror: libcusparse.so.10.0: cannot open shared object file: No such file or directory\n",
      "2023-03-11 19:36:17.916062: W tensorflow/stream_executor/platform/default/dso_loader.cc:55] Could not load dynamic library 'libcudnn.so.7'; dlerror: libcudnn.so.7: cannot open shared object file: No such file or directory\n",
      "2023-03-11 19:36:17.916084: W tensorflow/core/common_runtime/gpu/gpu_device.cc:1662] Cannot dlopen some GPU libraries. Please make sure the missing libraries mentioned above are installed properly if you would like to use GPU. Follow the guide at https://www.tensorflow.org/install/gpu for how to download and setup the required libraries for your platform.\n",
      "Skipping registering GPU devices...\n",
      "2023-03-11 19:36:17.916123: I tensorflow/core/common_runtime/gpu/gpu_device.cc:1180] Device interconnect StreamExecutor with strength 1 edge matrix:\n",
      "2023-03-11 19:36:17.916140: I tensorflow/core/common_runtime/gpu/gpu_device.cc:1186]      0 1 \n",
      "2023-03-11 19:36:17.916150: I tensorflow/core/common_runtime/gpu/gpu_device.cc:1199] 0:   N Y \n",
      "2023-03-11 19:36:17.916160: I tensorflow/core/common_runtime/gpu/gpu_device.cc:1199] 1:   Y N \n"
     ]
    },
    {
     "name": "stdout",
     "output_type": "stream",
     "text": [
      "came in load_gene\n",
      "updated hvg\n"
     ]
    },
    {
     "name": "stderr",
     "output_type": "stream",
     "text": [
      "W0311 19:36:39.631199 139654069150528 module_wrapper.py:139] From /home/ajita/Documents/data_integration/scDREAMER/scDREAMER/model_minibatch.py:9: The name tf.placeholder is deprecated. Please use tf.compat.v1.placeholder instead.\n",
      "\n",
      "W0311 19:36:39.639066 139654069150528 module_wrapper.py:139] From /home/ajita/Documents/data_integration/scDREAMER/scDREAMER/model_minibatch.py:256: The name tf.variable_scope is deprecated. Please use tf.compat.v1.variable_scope instead.\n",
      "\n",
      "W0311 19:36:39.640653 139654069150528 module_wrapper.py:139] From /home/ajita/Documents/data_integration/scDREAMER/scDREAMER/utils_minibatch.py:18: The name tf.get_variable is deprecated. Please use tf.compat.v1.get_variable instead.\n",
      "\n",
      "W0311 19:36:39.641362 139654069150528 lazy_loader.py:50] \n",
      "The TensorFlow contrib module will not be included in TensorFlow 2.0.\n",
      "For more information, please see:\n",
      "  * https://github.com/tensorflow/community/blob/master/rfcs/20180907-contrib-sunset.md\n",
      "  * https://github.com/tensorflow/addons\n",
      "  * https://github.com/tensorflow/io (for I/O related ops)\n",
      "If you depend on functionality not listed there, please file an issue.\n",
      "\n"
     ]
    },
    {
     "name": "stdout",
     "output_type": "stream",
     "text": [
      "here [2 4 1 ... 1 2 2]\n",
      "Shape self.data_train: (33506, 2000)\n",
      "Shape self.data_test: (33506, 2000)\n",
      "encoder input shape  Tensor(\"concat:0\", shape=(?, 2010), dtype=float32)\n"
     ]
    },
    {
     "name": "stderr",
     "output_type": "stream",
     "text": [
      "W0311 19:36:39.954616 139654069150528 deprecation.py:506] From /home/ajita/Documents/data_integration/scDREAMER/scDREAMER/model_minibatch.py:285: calling dropout (from tensorflow.python.ops.nn_ops) with keep_prob is deprecated and will be removed in a future version.\n",
      "Instructions for updating:\n",
      "Please use `rate` instead of `keep_prob`. Rate should be set to `rate = 1 - keep_prob`.\n",
      "W0311 19:36:40.083115 139654069150528 deprecation.py:323] From /home/ajita/Documents/data_integration/scDREAMER/scDREAMER/model_minibatch.py:42: to_float (from tensorflow.python.ops.math_ops) is deprecated and will be removed in a future version.\n",
      "Instructions for updating:\n",
      "Use `tf.cast` instead.\n",
      "W0311 19:36:40.084601 139654069150528 module_wrapper.py:139] From /home/ajita/Documents/data_integration/scDREAMER/scDREAMER/model_minibatch.py:539: The name tf.random_normal is deprecated. Please use tf.random.normal instead.\n",
      "\n",
      "W0311 19:36:40.271985 139654069150528 module_wrapper.py:139] From /home/ajita/Documents/data_integration/scDREAMER/scDREAMER/utils_minibatch.py:41: The name tf.log is deprecated. Please use tf.math.log instead.\n",
      "\n"
     ]
    },
    {
     "name": "stdout",
     "output_type": "stream",
     "text": [
      "decoder input shape  Tensor(\"concat_2:0\", shape=(?, 20), dtype=float32)\n"
     ]
    },
    {
     "name": "stderr",
     "output_type": "stream",
     "text": [
      "W0311 19:36:40.451650 139654069150528 module_wrapper.py:139] From /home/ajita/Documents/data_integration/scDREAMER/scDREAMER/utils_minibatch.py:41: The name tf.lgamma is deprecated. Please use tf.math.lgamma instead.\n",
      "\n",
      "W0311 19:36:40.502011 139654069150528 deprecation.py:323] From /home/ajita/Documents/data_integration/scDREAMER/scDREAMER/model_minibatch.py:105: softmax_cross_entropy_with_logits (from tensorflow.python.ops.nn_ops) is deprecated and will be removed in a future version.\n",
      "Instructions for updating:\n",
      "\n",
      "Future major versions of TensorFlow will allow gradients to flow\n",
      "into the labels input on backprop by default.\n",
      "\n",
      "See `tf.nn.softmax_cross_entropy_with_logits_v2`.\n",
      "\n",
      "W0311 19:36:40.537505 139654069150528 module_wrapper.py:139] From /home/ajita/Documents/data_integration/scDREAMER/scDREAMER/model_minibatch.py:115: The name tf.trainable_variables is deprecated. Please use tf.compat.v1.trainable_variables instead.\n",
      "\n",
      "W0311 19:36:40.538667 139654069150528 module_wrapper.py:139] From /home/ajita/Documents/data_integration/scDREAMER/scDREAMER/model_minibatch.py:124: The name tf.train.Saver is deprecated. Please use tf.compat.v1.train.Saver instead.\n",
      "\n",
      "W0311 19:36:40.575218 139654069150528 module_wrapper.py:139] From /home/ajita/Documents/data_integration/scDREAMER/scDREAMER/model_minibatch.py:131: The name tf.train.AdamOptimizer is deprecated. Please use tf.compat.v1.train.AdamOptimizer instead.\n",
      "\n",
      "W0311 19:36:40.609959 139654069150528 deprecation.py:323] From /home/ajita/anaconda3/envs/tf1_dra/lib/python3.7/site-packages/tensorflow_core/python/ops/math_grad.py:1424: where (from tensorflow.python.ops.array_ops) is deprecated and will be removed in a future version.\n",
      "Instructions for updating:\n",
      "Use tf.where in 2.0, which has the same broadcast rule as np.where\n"
     ]
    },
    {
     "name": "stdout",
     "output_type": "stream",
     "text": [
      "KL gaussian z Tensor(\"mul_9:0\", shape=(?,), dtype=float32)\n",
      "KL gaussian l Tensor(\"mul_8:0\", shape=(?,), dtype=float32)\n",
      "Cluster DRA on DataSet /home/ajita/Documents/data_integration/Immune/Immune_ALL_human.h5ad ... \n"
     ]
    },
    {
     "name": "stderr",
     "output_type": "stream",
     "text": [
      "W0311 19:36:42.395300 139654069150528 module_wrapper.py:139] From /home/ajita/Documents/data_integration/scDREAMER/scDREAMER/model_minibatch.py:143: The name tf.global_variables_initializer is deprecated. Please use tf.compat.v1.global_variables_initializer instead.\n",
      "\n"
     ]
    },
    {
     "name": "stdout",
     "output_type": "stream",
     "text": [
      "Epoch : [0] ,  a_loss = 484.9202, d_loss: -0.0534,  d_loss: 2.0756\n",
      "Epoch : [1] ,  a_loss = 415.8377, d_loss: -0.0074,  d_loss: 1.7894\n",
      "Epoch : [2] ,  a_loss = 403.9759, d_loss: -0.0058,  d_loss: 1.7077\n",
      "Epoch : [3] ,  a_loss = 398.3063, d_loss: -0.0044,  d_loss: 1.7351\n",
      "Epoch : [4] ,  a_loss = 394.5558, d_loss: -0.0035,  d_loss: 1.7497\n",
      "Epoch : [5] ,  a_loss = 391.1985, d_loss: -0.0032,  d_loss: 1.7410\n",
      "Epoch : [6] ,  a_loss = 388.2330, d_loss: -0.0030,  d_loss: 1.7499\n",
      "Epoch : [7] ,  a_loss = 385.4942, d_loss: -0.0028,  d_loss: 1.7504\n",
      "Epoch : [8] ,  a_loss = 382.9349, d_loss: -0.0026,  d_loss: 1.7407\n",
      "Epoch : [9] ,  a_loss = 380.5830, d_loss: -0.0024,  d_loss: 1.7389\n",
      "Epoch : [10] ,  a_loss = 378.4451, d_loss: -0.0023,  d_loss: 1.7387\n",
      "Epoch : [11] ,  a_loss = 376.3652, d_loss: -0.0022,  d_loss: 1.7569\n",
      "Epoch : [12] ,  a_loss = 374.4909, d_loss: -0.0022,  d_loss: 1.8341\n",
      "Epoch : [13] ,  a_loss = 372.6373, d_loss: -0.0065,  d_loss: 1.7872\n",
      "Epoch : [14] ,  a_loss = 370.8674, d_loss: -0.0064,  d_loss: 1.7737\n",
      "Epoch : [15] ,  a_loss = 369.2376, d_loss: -0.0050,  d_loss: 1.7625\n",
      "Epoch : [16] ,  a_loss = 367.6676, d_loss: -0.0042,  d_loss: 1.7559\n",
      "Epoch : [17] ,  a_loss = 366.0439, d_loss: -0.0038,  d_loss: 1.7541\n",
      "Epoch : [18] ,  a_loss = 364.5886, d_loss: -0.0035,  d_loss: 1.7516\n",
      "Epoch : [19] ,  a_loss = 363.1780, d_loss: -0.0031,  d_loss: 1.7518\n",
      "Epoch : [20] ,  a_loss = 361.7735, d_loss: -0.0029,  d_loss: 1.7565\n",
      "Epoch : [21] ,  a_loss = 360.5323, d_loss: -0.0028,  d_loss: 1.7586\n",
      "Epoch : [22] ,  a_loss = 359.2771, d_loss: -0.0027,  d_loss: 1.7628\n",
      "Epoch : [23] ,  a_loss = 358.0918, d_loss: -0.0027,  d_loss: 1.7634\n",
      "Epoch : [24] ,  a_loss = 356.9992, d_loss: -0.0026,  d_loss: 1.7663\n",
      "Epoch : [25] ,  a_loss = 355.8594, d_loss: -0.0026,  d_loss: 1.7680\n",
      "Epoch : [26] ,  a_loss = 354.8091, d_loss: -0.0026,  d_loss: 1.7704\n",
      "Epoch : [27] ,  a_loss = 353.8052, d_loss: -0.0027,  d_loss: 1.7676\n",
      "Epoch : [28] ,  a_loss = 352.8085, d_loss: -0.0028,  d_loss: 1.7693\n",
      "Epoch : [29] ,  a_loss = 351.9079, d_loss: -0.0027,  d_loss: 1.7672\n",
      "Epoch : [30] ,  a_loss = 351.0520, d_loss: -0.0028,  d_loss: 1.7663\n",
      "Epoch : [31] ,  a_loss = 350.2380, d_loss: -0.0029,  d_loss: 1.7671\n",
      "Epoch : [32] ,  a_loss = 349.3658, d_loss: -0.0066,  d_loss: 1.7680\n",
      "Epoch : [33] ,  a_loss = 348.5995, d_loss: -0.0192,  d_loss: 1.7683\n",
      "Epoch : [34] ,  a_loss = 347.8433, d_loss: -0.0472,  d_loss: 1.7671\n",
      "Epoch : [35] ,  a_loss = 347.1497, d_loss: -0.0697,  d_loss: 1.7646\n",
      "Epoch : [36] ,  a_loss = 346.4784, d_loss: -0.1141,  d_loss: 1.7657\n",
      "Epoch : [37] ,  a_loss = 345.7794, d_loss: -0.1278,  d_loss: 1.7650\n",
      "Epoch : [38] ,  a_loss = 345.1916, d_loss: -0.1243,  d_loss: 1.7650\n",
      "Epoch : [39] ,  a_loss = 344.5065, d_loss: -0.0909,  d_loss: 1.7645\n",
      "Epoch : [40] ,  a_loss = 343.9246, d_loss: -0.1819,  d_loss: 1.7650\n",
      "Epoch : [41] ,  a_loss = 343.4572, d_loss: -0.2872,  d_loss: 1.7651\n",
      "Epoch : [42] ,  a_loss = 342.9792, d_loss: -0.3042,  d_loss: 1.7651\n",
      "Epoch : [43] ,  a_loss = 342.4229, d_loss: -0.3654,  d_loss: 1.7643\n",
      "Epoch : [44] ,  a_loss = 341.9919, d_loss: -0.4165,  d_loss: 1.7619\n",
      "Epoch : [45] ,  a_loss = 341.5336, d_loss: -0.4686,  d_loss: 1.7615\n",
      "Epoch : [46] ,  a_loss = 341.0067, d_loss: -0.4211,  d_loss: 1.7619\n",
      "Epoch : [47] ,  a_loss = 340.6015, d_loss: -0.4567,  d_loss: 1.7605\n",
      "Epoch : [48] ,  a_loss = 340.1086, d_loss: -0.4305,  d_loss: 1.7626\n",
      "Epoch : [49] ,  a_loss = 339.7481, d_loss: -0.4983,  d_loss: 1.7620\n",
      "Epoch : [50] ,  a_loss = 339.4127, d_loss: -0.5931,  d_loss: 1.7588\n",
      "Epoch : [51] ,  a_loss = 339.0983, d_loss: -0.6546,  d_loss: 1.7593\n",
      "Epoch : [52] ,  a_loss = 338.6847, d_loss: -0.6974,  d_loss: 1.7612\n",
      "Epoch : [53] ,  a_loss = 338.3234, d_loss: -0.7356,  d_loss: 1.7613\n",
      "Epoch : [54] ,  a_loss = 338.0678, d_loss: -0.7975,  d_loss: 1.7604\n",
      "Epoch : [55] ,  a_loss = 337.7347, d_loss: -0.8521,  d_loss: 1.7599\n",
      "Epoch : [56] ,  a_loss = 337.4157, d_loss: -0.8627,  d_loss: 1.7603\n",
      "Epoch : [57] ,  a_loss = 337.0755, d_loss: -0.8267,  d_loss: 1.7604\n",
      "Epoch : [58] ,  a_loss = 336.8847, d_loss: -0.9508,  d_loss: 1.7576\n",
      "Epoch : [59] ,  a_loss = 336.5621, d_loss: -0.9390,  d_loss: 1.7604\n",
      "Epoch : [60] ,  a_loss = 336.2299, d_loss: -0.9156,  d_loss: 1.7583\n",
      "Epoch : [61] ,  a_loss = 335.9948, d_loss: -0.9629,  d_loss: 1.7631\n",
      "Epoch : [62] ,  a_loss = 335.5468, d_loss: -0.7554,  d_loss: 1.7584\n",
      "Epoch : [63] ,  a_loss = 335.3484, d_loss: -0.8190,  d_loss: 1.7601\n",
      "Epoch : [64] ,  a_loss = 335.1512, d_loss: -0.8857,  d_loss: 1.7608\n",
      "Epoch : [65] ,  a_loss = 334.8705, d_loss: -0.8884,  d_loss: 1.7596\n",
      "Epoch : [66] ,  a_loss = 334.7275, d_loss: -0.9163,  d_loss: 1.7596\n",
      "Epoch : [67] ,  a_loss = 334.4760, d_loss: -0.8909,  d_loss: 1.7580\n",
      "Epoch : [68] ,  a_loss = 334.1044, d_loss: -0.8034,  d_loss: 1.7591\n",
      "Epoch : [69] ,  a_loss = 334.0670, d_loss: -0.9065,  d_loss: 1.7567\n",
      "Epoch : [70] ,  a_loss = 333.9258, d_loss: -1.0222,  d_loss: 1.7603\n",
      "Epoch : [71] ,  a_loss = 333.7318, d_loss: -1.0175,  d_loss: 1.7594\n",
      "Epoch : [72] ,  a_loss = 333.4980, d_loss: -1.0092,  d_loss: 1.7601\n",
      "Epoch : [73] ,  a_loss = 333.3546, d_loss: -1.0164,  d_loss: 1.7584\n",
      "Epoch : [74] ,  a_loss = 333.1435, d_loss: -1.0069,  d_loss: 1.7589\n",
      "Epoch : [75] ,  a_loss = 333.0068, d_loss: -0.9911,  d_loss: 1.7589\n",
      "Epoch : [76] ,  a_loss = 332.9168, d_loss: -1.0920,  d_loss: 1.7587\n",
      "Epoch : [77] ,  a_loss = 332.6720, d_loss: -1.0716,  d_loss: 1.7598\n",
      "Epoch : [78] ,  a_loss = 332.5823, d_loss: -1.0692,  d_loss: 1.7582\n",
      "Epoch : [79] ,  a_loss = 332.4463, d_loss: -1.1054,  d_loss: 1.7598\n",
      "Epoch : [80] ,  a_loss = 332.2147, d_loss: -1.0769,  d_loss: 1.7607\n",
      "Epoch : [81] ,  a_loss = 332.1048, d_loss: -1.0279,  d_loss: 1.7601\n",
      "Epoch : [82] ,  a_loss = 331.8649, d_loss: -0.9905,  d_loss: 1.7599\n",
      "Epoch : [83] ,  a_loss = 331.7628, d_loss: -0.9380,  d_loss: 1.7609\n",
      "Epoch : [84] ,  a_loss = 331.6890, d_loss: -0.9976,  d_loss: 1.7627\n",
      "Epoch : [85] ,  a_loss = 331.6147, d_loss: -1.0865,  d_loss: 1.7610\n",
      "Epoch : [86] ,  a_loss = 331.5446, d_loss: -1.1306,  d_loss: 1.7603\n",
      "Epoch : [87] ,  a_loss = 331.4571, d_loss: -1.1211,  d_loss: 1.7613\n",
      "Epoch : [88] ,  a_loss = 331.1861, d_loss: -1.0248,  d_loss: 1.7603\n",
      "Epoch : [89] ,  a_loss = 331.1142, d_loss: -1.0642,  d_loss: 1.7607\n",
      "Epoch : [90] ,  a_loss = 331.2011, d_loss: -1.1987,  d_loss: 1.7600\n",
      "Epoch : [91] ,  a_loss = 330.9872, d_loss: -1.1489,  d_loss: 1.7632\n",
      "Epoch : [92] ,  a_loss = 330.9041, d_loss: -1.1706,  d_loss: 1.7612\n",
      "Epoch : [93] ,  a_loss = 330.8455, d_loss: -1.1561,  d_loss: 1.7622\n",
      "Epoch : [94] ,  a_loss = 330.7211, d_loss: -1.1928,  d_loss: 1.7634\n",
      "Epoch : [95] ,  a_loss = 330.6707, d_loss: -1.2010,  d_loss: 1.7625\n",
      "Epoch : [96] ,  a_loss = 330.5583, d_loss: -1.1860,  d_loss: 1.7607\n",
      "Epoch : [97] ,  a_loss = 330.4789, d_loss: -1.2019,  d_loss: 1.7594\n",
      "Epoch : [98] ,  a_loss = 330.4519, d_loss: -1.2447,  d_loss: 1.7614\n",
      "Epoch : [99] ,  a_loss = 330.3253, d_loss: -1.2102,  d_loss: 1.7601\n",
      "Epoch : [100] ,  a_loss = 330.3444, d_loss: -1.2587,  d_loss: 1.7637\n",
      "Epoch : [101] ,  a_loss = 330.2123, d_loss: -1.2957,  d_loss: 1.7615\n",
      "Epoch : [102] ,  a_loss = 330.1496, d_loss: -1.2260,  d_loss: 1.7601\n",
      "Epoch : [103] ,  a_loss = 330.0579, d_loss: -1.2144,  d_loss: 1.7639\n",
      "Epoch : [104] ,  a_loss = 329.9930, d_loss: -1.2113,  d_loss: 1.7621\n",
      "Epoch : [105] ,  a_loss = 329.8514, d_loss: -1.2137,  d_loss: 1.7625\n",
      "Epoch : [106] ,  a_loss = 329.8733, d_loss: -1.2442,  d_loss: 1.7618\n",
      "Epoch : [107] ,  a_loss = 329.7711, d_loss: -1.2519,  d_loss: 1.7616\n",
      "Epoch : [108] ,  a_loss = 329.7161, d_loss: -1.1833,  d_loss: 1.7629\n",
      "Epoch : [109] ,  a_loss = 329.7019, d_loss: -1.2262,  d_loss: 1.7636\n",
      "Epoch : [110] ,  a_loss = 329.6524, d_loss: -1.2611,  d_loss: 1.7644\n",
      "Epoch : [111] ,  a_loss = 329.6131, d_loss: -1.2978,  d_loss: 1.7623\n",
      "Epoch : [112] ,  a_loss = 329.5101, d_loss: -1.2730,  d_loss: 1.7623\n",
      "Epoch : [113] ,  a_loss = 329.4113, d_loss: -1.1708,  d_loss: 1.7637\n",
      "Epoch : [114] ,  a_loss = 329.4257, d_loss: -1.2192,  d_loss: 1.7610\n",
      "Epoch : [115] ,  a_loss = 329.4229, d_loss: -1.2644,  d_loss: 1.7615\n",
      "Epoch : [116] ,  a_loss = 329.3767, d_loss: -1.3084,  d_loss: 1.7624\n",
      "Epoch : [117] ,  a_loss = 329.3691, d_loss: -1.3611,  d_loss: 1.7593\n",
      "Epoch : [118] ,  a_loss = 329.3702, d_loss: -1.3379,  d_loss: 1.7614\n",
      "Epoch : [119] ,  a_loss = 329.3115, d_loss: -1.3699,  d_loss: 1.7627\n",
      "Epoch : [120] ,  a_loss = 329.2577, d_loss: -1.3692,  d_loss: 1.7614\n"
     ]
    },
    {
     "name": "stdout",
     "output_type": "stream",
     "text": [
      "Epoch : [121] ,  a_loss = 329.1814, d_loss: -1.2945,  d_loss: 1.7633\n",
      "Epoch : [122] ,  a_loss = 329.0611, d_loss: -1.1335,  d_loss: 1.7598\n",
      "Epoch : [123] ,  a_loss = 329.2133, d_loss: -1.3833,  d_loss: 1.7599\n",
      "Epoch : [124] ,  a_loss = 329.1191, d_loss: -1.3396,  d_loss: 1.7609\n",
      "Epoch : [125] ,  a_loss = 329.0193, d_loss: -1.3200,  d_loss: 1.7617\n",
      "Epoch : [126] ,  a_loss = 329.0465, d_loss: -1.3498,  d_loss: 1.7582\n",
      "Epoch : [127] ,  a_loss = 328.9545, d_loss: -1.3080,  d_loss: 1.7601\n",
      "Epoch : [128] ,  a_loss = 328.9622, d_loss: -1.4020,  d_loss: 1.7635\n",
      "Epoch : [129] ,  a_loss = 328.9559, d_loss: -1.4129,  d_loss: 1.7603\n",
      "Epoch : [130] ,  a_loss = 328.9930, d_loss: -1.4586,  d_loss: 1.7606\n",
      "Epoch : [131] ,  a_loss = 328.9429, d_loss: -1.3879,  d_loss: 1.7614\n",
      "Epoch : [132] ,  a_loss = 328.8966, d_loss: -1.3771,  d_loss: 1.7604\n",
      "Epoch : [133] ,  a_loss = 328.8228, d_loss: -1.3399,  d_loss: 1.7619\n",
      "Epoch : [134] ,  a_loss = 328.7685, d_loss: -1.2807,  d_loss: 1.7608\n",
      "Epoch : [135] ,  a_loss = 328.7381, d_loss: -1.3269,  d_loss: 1.7595\n",
      "Epoch : [136] ,  a_loss = 328.7712, d_loss: -1.4196,  d_loss: 1.7593\n",
      "Epoch : [137] ,  a_loss = 328.6349, d_loss: -1.2315,  d_loss: 1.7616\n"
     ]
    }
   ],
   "source": [
    "#import model\n",
    "#import model_wo_Dis as model# without Discriminator\n",
    "#import model_wo_BC as model # without Batch Classiifer\n",
    "\n",
    "#import model_scanvi_semisupervised as model\n",
    "#import model_prior as model\n",
    "#import model_only_scanvi as model\n",
    "import model_minibatch as model\n",
    "run_config = tf.ConfigProto()\n",
    "\n",
    "run_config.gpu_options.per_process_gpu_memory_fraction = 0.333\n",
    "run_config.gpu_options.allow_growth = True\n",
    "\n",
    "with tf.Session(config = run_config) as sess:\n",
    "\n",
    "    dreamer = model.scDREAMER(\n",
    "        sess,\n",
    "        epoch = 200,\n",
    "        dataset_name = data_path,\n",
    "        batch = batch_key_dic[name],\n",
    "        cell_type = cell_type_key_dic[name],\n",
    "        name = name\n",
    "        )\n",
    "\n",
    "    dreamer.train_cluster()\n",
    "\n"
   ]
  },
  {
   "cell_type": "code",
   "execution_count": null,
   "metadata": {
    "id": "UMeOH7FmmZ1v"
   },
   "outputs": [],
   "source": []
  }
 ],
 "metadata": {
  "accelerator": "GPU",
  "colab": {
   "collapsed_sections": [],
   "include_colab_link": true,
   "machine_shape": "hm",
   "name": "2109_Classifier.ipynb",
   "provenance": []
  },
  "kernelspec": {
   "display_name": "Python 3 (ipykernel)",
   "language": "python",
   "name": "python3"
  },
  "language_info": {
   "codemirror_mode": {
    "name": "ipython",
    "version": 3
   },
   "file_extension": ".py",
   "mimetype": "text/x-python",
   "name": "python",
   "nbconvert_exporter": "python",
   "pygments_lexer": "ipython3",
   "version": "3.7.11"
  }
 },
 "nbformat": 4,
 "nbformat_minor": 1
}
