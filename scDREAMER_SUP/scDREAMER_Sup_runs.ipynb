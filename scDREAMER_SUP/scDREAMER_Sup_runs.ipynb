{
 "cells": [
  {
   "cell_type": "markdown",
   "metadata": {
    "colab_type": "text",
    "id": "view-in-github"
   },
   "source": [
    "<a href=\"https://colab.research.google.com/github/Zafar-Lab/scDREAMER/blob/main/2109_Classifier.ipynb\" target=\"_parent\"><img src=\"https://colab.research.google.com/assets/colab-badge.svg\" alt=\"Open In Colab\"/></a>"
   ]
  },
  {
   "cell_type": "code",
   "execution_count": 1,
   "metadata": {},
   "outputs": [
    {
     "name": "stderr",
     "output_type": "stream",
     "text": [
      "2023-09-07 17:00:48.172173: I tensorflow/core/platform/cpu_feature_guard.cc:182] This TensorFlow binary is optimized to use available CPU instructions in performance-critical operations.\n",
      "To enable the following instructions: AVX2 AVX512F FMA, in other operations, rebuild TensorFlow with the appropriate compiler flags.\n",
      "2023-09-07 17:00:48.790364: W tensorflow/compiler/tf2tensorrt/utils/py_utils.cc:38] TF-TRT Warning: Could not find TensorRT\n"
     ]
    },
    {
     "name": "stdout",
     "output_type": "stream",
     "text": [
      "WARNING:tensorflow:From /home/ajita/anaconda3/lib/python3.9/site-packages/tensorflow/python/compat/v2_compat.py:107: disable_resource_variables (from tensorflow.python.ops.variable_scope) is deprecated and will be removed in a future version.\n",
      "Instructions for updating:\n",
      "non-resource variables are not supported in the long term\n"
     ]
    }
   ],
   "source": [
    "import os\n",
    "os.environ[\"CUDA_VISIBLE_DEVICES\"] = \"1\" \n",
    "import random\n",
    "import numpy as np\n",
    "import tensorflow as tf2\n",
    "import tensorflow.compat.v1 as tf\n",
    "tf.disable_v2_behavior() "
   ]
  },
  {
   "cell_type": "code",
   "execution_count": 2,
   "metadata": {},
   "outputs": [],
   "source": [
    "\n",
    "np.random.seed(0)\n",
    "tf.set_random_seed(0)\n",
    "random.seed(0)\n",
    "tf2.random.set_seed(0)\n",
    "tf2.keras.utils.set_random_seed(0)\n"
   ]
  },
  {
   "cell_type": "code",
   "execution_count": 3,
   "metadata": {
    "colab": {
     "base_uri": "https://localhost:8080/"
    },
    "id": "Go9Bo6ceSDoO",
    "outputId": "cc70a49c-de00-40ab-cbad-b6dd27139c2a"
   },
   "outputs": [
    {
     "data": {
      "text/plain": [
       "'\\n!pip install -U scipy==1.5.0\\n!pip install scanpy==1.8.2\\n!pip install -U scikit-learn\\n'"
      ]
     },
     "execution_count": 3,
     "metadata": {},
     "output_type": "execute_result"
    }
   ],
   "source": [
    "import warnings\n",
    "warnings.filterwarnings('ignore')\n",
    "\"\"\"\n",
    "!pip install -U scipy==1.5.0\n",
    "!pip install scanpy==1.8.2\n",
    "!pip install -U scikit-learn\n",
    "\"\"\""
   ]
  },
  {
   "cell_type": "markdown",
   "metadata": {
    "id": "XnC_XfBeHHq-"
   },
   "source": [
    "Building model"
   ]
  },
  {
   "cell_type": "code",
   "execution_count": 4,
   "metadata": {},
   "outputs": [],
   "source": [
    "\n",
    "\n",
    "name = \"Lung\"\n",
    "\n",
    "\n",
    "name = \"Lung\"\n",
    "\n",
    "name = \"Immune_Human\"\n",
    "name = \"Human_Retina\"\n",
    "name = \"Human_Mouse\"\n",
    "name = \"Healthy_Heart\"\n",
    "\"\"\"\n",
    "NOTE:\n",
    "Run setting as follows:\n",
    "0: Supervised setting\n",
    "10: 10 percent missing labels data\n",
    "20: 20 percent missing labels data\n",
    "50: 50 percent missing labels data\n",
    "\"\"\"\n",
    "run_setting = 20"
   ]
  },
  {
   "cell_type": "code",
   "execution_count": 5,
   "metadata": {},
   "outputs": [],
   "source": [
    "\"\"\"\n",
    "\n",
    "0: Supervised setting\n",
    "10: 10% missing labels\n",
    "20: 20% missing labels\n",
    "50: 50% missing labels\n",
    "\n",
    "\"\"\"\n",
    "\n",
    "path = \"/home/ajita/Documents/data_integration/\"\n",
    "\n",
    "data_path = {\n",
    "    \n",
    "\"Immune_Human\" : {0: path + \"Immune/Immune_ALL_human.h5ad\",\n",
    "                  10: path + \"Immune/Immune_Human_NA_0.1.h5ad\",\n",
    "                  20: path + \"Immune/Immune_Human_NA_0.2.h5ad\",\n",
    "                  50: path + \"Immune/Immune_Human_NA_0.5.h5ad\"\n",
    "                 },\n",
    "    \n",
    "\"Human_Mouse\" : {\n",
    "                0: path + \"hum_mou/hcl_mca_merged.h5ad\"},\n",
    "    \n",
    "\"Human_Retina\" : {\n",
    "                0: path + \"Human_Retina/Human_Retina.h5ad\"},\n",
    "    \n",
    "\"Lung\" : { 0: path + \"Lung/Lung_atlas_public.h5ad\",\n",
    "          10: path + \"Lung/Lung_NA_0.1.h5ad\",\n",
    "          20: path + \"Lung/Lung_NA_0.2.h5ad\",\n",
    "          50: path + \"Lung/Lung_NA_0.5.h5ad\"\n",
    "         },\n",
    "    \n",
    "\"Healthy_Heart\" : {\n",
    "        0: path + \"Healthy_Heart/Healthy_human_heart_adata.h5ad\",\n",
    "        20: path + \"Healthy_Heart/Healthy_human_heart_adata_NA_0.2.h5ad\",\n",
    "        50: path + \"Healthy_Heart/Healthy_human_heart_adata_NA_0.5.h5ad\"}\n",
    "}\n",
    "\n",
    "\n",
    "batch_key_dict = {'Immune_Human' : 'batch',\n",
    "                 'Lung' : 'batch',\n",
    "                 'Pancreas' : 'tech',\n",
    "                 'Human_Mouse' : 'batch',\n",
    "                 'Human_Retina': \"Batch\",\n",
    "                 \"Healthy_Heart\" : \"sampleID\"\n",
    "                 \n",
    "                }\n",
    "\n",
    "cell_type_key_dict = {\n",
    "    \n",
    "\"Immune_Human\" : {0: \"final_annotation\", 10: \"final_annotation_NA\",\n",
    "                  20: \"final_annotation_NA\", 50: \"final_annotation_NA\"\n",
    "                 },\n",
    "    \n",
    "\"Human_Mouse\" : {\n",
    "                0: \"celltype\"},\n",
    "    \n",
    "\"Human_Retina\" : {\n",
    "                0: \"Subcluster\"},\n",
    "    \n",
    "\"Lung\" : { 0: \"cell_type\",\n",
    "          10: \"cell_type_NA\",\n",
    "          20: \"cell_type_NA\",\n",
    "          50: \"cell_type_NA\"\n",
    "         },\n",
    "    \n",
    "\"Healthy_Heart\" : {\n",
    "        0: \"celltype\",\n",
    "        20: \"celltype_NA\",\n",
    "        50: \"celltype_NA\"},\n",
    "    \n",
    "\"Human_Mouse\" : {\n",
    "     0: \"celltype\"\n",
    "    }    \n",
    "}\n",
    " \n",
    "shuffle_type_dict = {\n",
    "\"Immune_Human\" : {0: 1, 10: 2, 20: 2, 50: 2 },    \n",
    "\"Human_Retina\" : { 0: 1},\n",
    "\"Lung\" : { 0: 1,10: 2, 20: 2, 50: 2}, \n",
    "\"Healthy_Heart\" : {0: 1, 20: 1,50: 1},    \n",
    "\"Human_Mouse\" : {0: 1}}\n",
    "\n",
    "lr = {\"lr_ae\" : 0.0002, \"lr_dis\": 0.0007, \"lr_bc\": 0.0007}\n",
    "lr_big_data = {\"lr_ae\" : 0.0002, \"lr_dis\": 0.00001, \"lr_bc\": 0.0007}\n",
    "\n",
    "learning_rate = {\n",
    "\"Immune_Human\" : {0: lr, 10: lr, 20: lr, 50: lr },    \n",
    "\"Human_Retina\" : { 0: lr},\n",
    "\"Lung\" : { 0: lr,10: lr, 20: lr, 50: lr}, \n",
    "\"Healthy_Heart\" : {0: lr_big_data, 20: lr_big_data, 50: lr_big_data},    \n",
    "\"Human_Mouse\" : {0: {\"lr_ae\" : 0.00005, \"lr_dis\": 0.00001, \"lr_bc\": 0.0007}}}\n",
    "\n",
    "\n",
    "# big datasets: 20 dimensions\n",
    "latent_dim = {\n",
    "                'Immune_Human' : 10,\n",
    "                 'Lung' : 10,\n",
    "                 'Pancreas' : 10,\n",
    "                 'Human_Mouse' : 20,\n",
    "                 'Human_Retina': 10,\n",
    "                 \"Healthy_Heart\" : 20\n",
    "    \n",
    "            }\n",
    "\n",
    "BS = {\n",
    "\"Immune_Human\" : {0: 256, 10: 128, 20: 128, 50: 128 },    \n",
    "\"Human_Retina\" : { 0: 256},\n",
    "\"Lung\" : { 0: 256,10: 128, 20: 128, 50: 128}, \n",
    "\"Healthy_Heart\" : {0: 128, 20: 128,50: 128},    \n",
    "\"Human_Mouse\" : {0: 128}}\n",
    "\n",
    "\n",
    "epoch_dict = {\n",
    "    'Immune_Human' : 300,\n",
    "     'Lung' : 300,\n",
    "     'Human_Mouse' : 300,\n",
    "     'Human_Retina': 300,\n",
    "     \"Healthy_Heart\" : 300\n",
    "}\n",
    "\n",
    "plot_cell_type_dict = {\n",
    "                    \"Healthy_Heart\" : \"celltype\",\n",
    "                    'Immune_Human' : 'final_annotation', \n",
    "                 'Lung' : 'cell_type',\n",
    "                 'Pancreas' : 'celltype',\n",
    "                 'Human_Mouse' : \"celltype\",\n",
    "                 \"Human_Retina\":\"Subcluster\"\n",
    "                    } \n",
    "\n",
    "\"\"\"\n",
    "Below variable takes care of sparse matrix\n",
    "If 1: pd.DataFrame.sparse.from_spmatrix(Ann.X) is used\n",
    "If 0: pd.DataFrame(Ann.X)\n",
    "\n",
    "By default 0, unless scarcity not handled by basis pandas operation\n",
    "\"\"\"\n",
    "\n",
    "sparseIP= {\n",
    "        \"Healthy_Heart\" : 1,\n",
    "    'Immune_Human' : 0, \n",
    "     'Lung' : 1,\n",
    "     'Pancreas' : 0,\n",
    "     'Human_Mouse' : 1,\n",
    "     \"Human_Retina\": 0\n",
    "}"
   ]
  },
  {
   "cell_type": "code",
   "execution_count": 6,
   "metadata": {
    "colab": {
     "base_uri": "https://localhost:8080/",
     "height": 1000
    },
    "id": "Lu41SpbIteg2",
    "outputId": "b4dd5296-7e6a-4b8c-f2d7-803ffd8a9768",
    "scrolled": false
   },
   "outputs": [
    {
     "name": "stderr",
     "output_type": "stream",
     "text": [
      "2023-09-07 17:00:51.337820: I tensorflow/core/common_runtime/gpu/gpu_device.cc:1635] Created device /job:localhost/replica:0/task:0/device:GPU:0 with 5367 MB memory:  -> device: 0, name: Quadro RTX 5000, pci bus id: 0000:d8:00.0, compute capability: 7.5\n"
     ]
    },
    {
     "name": "stdout",
     "output_type": "stream",
     "text": [
      "Loading dataset\n",
      "Preprocessing...\n",
      "here [11  7 12 ...  2  2  2]\n",
      "Shape self.data_train: (486134, 2000)\n",
      "Shape self.data_test: (486134, 2000)\n",
      "encoder input shape  Tensor(\"concat:0\", shape=(?, 2147), dtype=float32)\n",
      "WARNING:tensorflow:From /home/ajita/anaconda3/lib/python3.9/site-packages/tensorflow/python/util/dispatch.py:1176: calling dropout (from tensorflow.python.ops.nn_ops) with keep_prob is deprecated and will be removed in a future version.\n",
      "Instructions for updating:\n",
      "Please use `rate` instead of `keep_prob`. Rate should be set to `rate = 1 - keep_prob`.\n",
      "WARNING:tensorflow:From /home/ajita/anaconda3/lib/python3.9/site-packages/tensorflow/python/util/dispatch.py:1176: to_float (from tensorflow.python.ops.math_ops) is deprecated and will be removed in a future version.\n",
      "Instructions for updating:\n",
      "Use `tf.cast` instead.\n",
      "decoder input shape  Tensor(\"concat_2:0\", shape=(?, 167), dtype=float32)\n",
      "inferred check Tensor(\"Max:0\", shape=(), dtype=float32)\n",
      "entering in for loop 1   512  -- > 256\n",
      "KL gaussian z Tensor(\"mul_13:0\", shape=(?,), dtype=float32)\n",
      "KL gaussian l Tensor(\"mul_12:0\", shape=(?,), dtype=float32)\n",
      "WARNING:tensorflow:From /home/ajita/anaconda3/lib/python3.9/site-packages/tensorflow/python/util/dispatch.py:1176: softmax_cross_entropy_with_logits (from tensorflow.python.ops.nn_ops) is deprecated and will be removed in a future version.\n",
      "Instructions for updating:\n",
      "\n",
      "Future major versions of TensorFlow will allow gradients to flow\n",
      "into the labels input on backprop by default.\n",
      "\n",
      "See `tf.nn.softmax_cross_entropy_with_logits_v2`.\n",
      "\n",
      "Cluster DRA on DataSet /home/ajita/Documents/data_integration/Healthy_Heart/Healthy_human_heart_adata_NA_0.2.h5ad ... \n"
     ]
    },
    {
     "name": "stderr",
     "output_type": "stream",
     "text": [
      "2023-09-07 17:02:54.024488: I tensorflow/compiler/mlir/mlir_graph_optimization_pass.cc:353] MLIR V1 optimization pass is not enabled\n"
     ]
    },
    {
     "name": "stdout",
     "output_type": "stream",
     "text": [
      "Epoch : [0] ,  a_loss = 203.3898, d_loss: -0.0057 , db_loss: 3.3817\n"
     ]
    },
    {
     "ename": "KeyboardInterrupt",
     "evalue": "",
     "output_type": "error",
     "traceback": [
      "\u001b[0;31m---------------------------------------------------------------------------\u001b[0m",
      "\u001b[0;31mKeyboardInterrupt\u001b[0m                         Traceback (most recent call last)",
      "\u001b[0;32m/tmp/ipykernel_390435/996486341.py\u001b[0m in \u001b[0;36m<module>\u001b[0;34m\u001b[0m\n\u001b[1;32m     28\u001b[0m         )\n\u001b[1;32m     29\u001b[0m \u001b[0;34m\u001b[0m\u001b[0m\n\u001b[0;32m---> 30\u001b[0;31m     \u001b[0mdreamer\u001b[0m\u001b[0;34m.\u001b[0m\u001b[0mtrain_cluster\u001b[0m\u001b[0;34m(\u001b[0m\u001b[0;34m)\u001b[0m\u001b[0;34m\u001b[0m\u001b[0;34m\u001b[0m\u001b[0m\n\u001b[0m\u001b[1;32m     31\u001b[0m \u001b[0;34m\u001b[0m\u001b[0m\n\u001b[1;32m     32\u001b[0m \u001b[0;34m\u001b[0m\u001b[0m\n",
      "\u001b[0;32m~/Documents/data_integration/Final_repository/scDREAMER_all_experiments_modular/scDREAMER_Sup/src/model.py\u001b[0m in \u001b[0;36mtrain_cluster\u001b[0;34m(self)\u001b[0m\n\u001b[1;32m    333\u001b[0m \u001b[0;34m\u001b[0m\u001b[0m\n\u001b[1;32m    334\u001b[0m         \u001b[0;32mif\u001b[0m \u001b[0;34m(\u001b[0m\u001b[0mep\u001b[0m \u001b[0;34m%\u001b[0m \u001b[0;36m50\u001b[0m \u001b[0;34m==\u001b[0m \u001b[0;36m0\u001b[0m\u001b[0;34m)\u001b[0m\u001b[0;34m:\u001b[0m\u001b[0;34m\u001b[0m\u001b[0;34m\u001b[0m\u001b[0m\n\u001b[0;32m--> 335\u001b[0;31m              \u001b[0mself\u001b[0m\u001b[0;34m.\u001b[0m\u001b[0meval_cluster_on_test\u001b[0m\u001b[0;34m(\u001b[0m\u001b[0mep\u001b[0m\u001b[0;34m,\u001b[0m \u001b[0mself\u001b[0m\u001b[0;34m.\u001b[0m\u001b[0mname\u001b[0m\u001b[0;34m)\u001b[0m\u001b[0;34m\u001b[0m\u001b[0;34m\u001b[0m\u001b[0m\n\u001b[0m\u001b[1;32m    336\u001b[0m \u001b[0;34m\u001b[0m\u001b[0m\n\u001b[1;32m    337\u001b[0m     \u001b[0mself\u001b[0m\u001b[0;34m.\u001b[0m\u001b[0meval_cluster_on_test\u001b[0m\u001b[0;34m(\u001b[0m\u001b[0mep\u001b[0m\u001b[0;34m,\u001b[0m \u001b[0mself\u001b[0m\u001b[0;34m.\u001b[0m\u001b[0mname\u001b[0m\u001b[0;34m)\u001b[0m\u001b[0;34m\u001b[0m\u001b[0;34m\u001b[0m\u001b[0m\n",
      "\u001b[0;32m~/Documents/data_integration/Final_repository/scDREAMER_all_experiments_modular/scDREAMER_Sup/src/utils.py\u001b[0m in \u001b[0;36meval_cluster_on_test\u001b[0;34m(self, ep, name)\u001b[0m\n\u001b[1;32m     76\u001b[0m         \u001b[0mend\u001b[0m \u001b[0;34m=\u001b[0m \u001b[0mmin\u001b[0m\u001b[0;34m(\u001b[0m\u001b[0mend\u001b[0m \u001b[0;34m+\u001b[0m \u001b[0;36m15000\u001b[0m\u001b[0;34m,\u001b[0m \u001b[0mlen\u001b[0m\u001b[0;34m(\u001b[0m\u001b[0minp_encoder\u001b[0m\u001b[0;34m)\u001b[0m\u001b[0;34m)\u001b[0m\u001b[0;34m\u001b[0m\u001b[0;34m\u001b[0m\u001b[0m\n\u001b[1;32m     77\u001b[0m \u001b[0;34m\u001b[0m\u001b[0m\n\u001b[0;32m---> 78\u001b[0;31m         \u001b[0mmat\u001b[0m \u001b[0;34m=\u001b[0m \u001b[0mself\u001b[0m\u001b[0;34m.\u001b[0m\u001b[0msess\u001b[0m\u001b[0;34m.\u001b[0m\u001b[0mrun\u001b[0m\u001b[0;34m(\u001b[0m\u001b[0mself\u001b[0m\u001b[0;34m.\u001b[0m\u001b[0mz\u001b[0m\u001b[0;34m,\u001b[0m \u001b[0mfeed_dict\u001b[0m \u001b[0;34m=\u001b[0m \u001b[0;34m{\u001b[0m\u001b[0mself\u001b[0m\u001b[0;34m.\u001b[0m\u001b[0mx_input\u001b[0m\u001b[0;34m:\u001b[0m \u001b[0minp_encoder\u001b[0m\u001b[0;34m[\u001b[0m\u001b[0mstart\u001b[0m\u001b[0;34m:\u001b[0m\u001b[0mend\u001b[0m\u001b[0;34m]\u001b[0m\u001b[0;34m,\u001b[0m \u001b[0mself\u001b[0m\u001b[0;34m.\u001b[0m\u001b[0mbatch_input\u001b[0m\u001b[0;34m:\u001b[0m \u001b[0mbatch_label\u001b[0m\u001b[0;34m[\u001b[0m\u001b[0mstart\u001b[0m\u001b[0;34m:\u001b[0m\u001b[0mend\u001b[0m\u001b[0;34m]\u001b[0m\u001b[0;34m,\u001b[0m \u001b[0mself\u001b[0m\u001b[0;34m.\u001b[0m\u001b[0mlabels\u001b[0m\u001b[0;34m:\u001b[0m \u001b[0mlabels_\u001b[0m\u001b[0;34m[\u001b[0m\u001b[0mstart\u001b[0m\u001b[0;34m:\u001b[0m\u001b[0mend\u001b[0m\u001b[0;34m]\u001b[0m\u001b[0;34m,\u001b[0m \u001b[0mself\u001b[0m\u001b[0;34m.\u001b[0m\u001b[0mkeep_prob\u001b[0m\u001b[0;34m:\u001b[0m \u001b[0;36m1.0\u001b[0m\u001b[0;34m}\u001b[0m\u001b[0;34m)\u001b[0m\u001b[0;34m\u001b[0m\u001b[0;34m\u001b[0m\u001b[0m\n\u001b[0m\u001b[1;32m     79\u001b[0m \u001b[0;34m\u001b[0m\u001b[0m\n\u001b[1;32m     80\u001b[0m         \u001b[0mlatent_matrix\u001b[0m \u001b[0;34m=\u001b[0m \u001b[0mnp\u001b[0m\u001b[0;34m.\u001b[0m\u001b[0mconcatenate\u001b[0m\u001b[0;34m(\u001b[0m\u001b[0;34m(\u001b[0m\u001b[0mlatent_matrix\u001b[0m\u001b[0;34m,\u001b[0m \u001b[0mmat\u001b[0m\u001b[0;34m)\u001b[0m\u001b[0;34m,\u001b[0m \u001b[0maxis\u001b[0m \u001b[0;34m=\u001b[0m \u001b[0;36m0\u001b[0m\u001b[0;34m)\u001b[0m\u001b[0;34m\u001b[0m\u001b[0;34m\u001b[0m\u001b[0m\n",
      "\u001b[0;32m~/anaconda3/lib/python3.9/site-packages/tensorflow/python/client/session.py\u001b[0m in \u001b[0;36mrun\u001b[0;34m(self, fetches, feed_dict, options, run_metadata)\u001b[0m\n\u001b[1;32m    966\u001b[0m \u001b[0;34m\u001b[0m\u001b[0m\n\u001b[1;32m    967\u001b[0m     \u001b[0;32mtry\u001b[0m\u001b[0;34m:\u001b[0m\u001b[0;34m\u001b[0m\u001b[0;34m\u001b[0m\u001b[0m\n\u001b[0;32m--> 968\u001b[0;31m       result = self._run(None, fetches, feed_dict, options_ptr,\n\u001b[0m\u001b[1;32m    969\u001b[0m                          run_metadata_ptr)\n\u001b[1;32m    970\u001b[0m       \u001b[0;32mif\u001b[0m \u001b[0mrun_metadata\u001b[0m\u001b[0;34m:\u001b[0m\u001b[0;34m\u001b[0m\u001b[0;34m\u001b[0m\u001b[0m\n",
      "\u001b[0;32m~/anaconda3/lib/python3.9/site-packages/tensorflow/python/client/session.py\u001b[0m in \u001b[0;36m_run\u001b[0;34m(self, handle, fetches, feed_dict, options, run_metadata)\u001b[0m\n\u001b[1;32m   1189\u001b[0m     \u001b[0;31m# or if the call is a partial run that specifies feeds.\u001b[0m\u001b[0;34m\u001b[0m\u001b[0;34m\u001b[0m\u001b[0m\n\u001b[1;32m   1190\u001b[0m     \u001b[0;32mif\u001b[0m \u001b[0mfinal_fetches\u001b[0m \u001b[0;32mor\u001b[0m \u001b[0mfinal_targets\u001b[0m \u001b[0;32mor\u001b[0m \u001b[0;34m(\u001b[0m\u001b[0mhandle\u001b[0m \u001b[0;32mand\u001b[0m \u001b[0mfeed_dict_tensor\u001b[0m\u001b[0;34m)\u001b[0m\u001b[0;34m:\u001b[0m\u001b[0;34m\u001b[0m\u001b[0;34m\u001b[0m\u001b[0m\n\u001b[0;32m-> 1191\u001b[0;31m       results = self._do_run(handle, final_targets, final_fetches,\n\u001b[0m\u001b[1;32m   1192\u001b[0m                              feed_dict_tensor, options, run_metadata)\n\u001b[1;32m   1193\u001b[0m     \u001b[0;32melse\u001b[0m\u001b[0;34m:\u001b[0m\u001b[0;34m\u001b[0m\u001b[0;34m\u001b[0m\u001b[0m\n",
      "\u001b[0;32m~/anaconda3/lib/python3.9/site-packages/tensorflow/python/client/session.py\u001b[0m in \u001b[0;36m_do_run\u001b[0;34m(self, handle, target_list, fetch_list, feed_dict, options, run_metadata)\u001b[0m\n\u001b[1;32m   1369\u001b[0m \u001b[0;34m\u001b[0m\u001b[0m\n\u001b[1;32m   1370\u001b[0m     \u001b[0;32mif\u001b[0m \u001b[0mhandle\u001b[0m \u001b[0;32mis\u001b[0m \u001b[0;32mNone\u001b[0m\u001b[0;34m:\u001b[0m\u001b[0;34m\u001b[0m\u001b[0;34m\u001b[0m\u001b[0m\n\u001b[0;32m-> 1371\u001b[0;31m       return self._do_call(_run_fn, feeds, fetches, targets, options,\n\u001b[0m\u001b[1;32m   1372\u001b[0m                            run_metadata)\n\u001b[1;32m   1373\u001b[0m     \u001b[0;32melse\u001b[0m\u001b[0;34m:\u001b[0m\u001b[0;34m\u001b[0m\u001b[0;34m\u001b[0m\u001b[0m\n",
      "\u001b[0;32m~/anaconda3/lib/python3.9/site-packages/tensorflow/python/client/session.py\u001b[0m in \u001b[0;36m_do_call\u001b[0;34m(self, fn, *args)\u001b[0m\n\u001b[1;32m   1376\u001b[0m   \u001b[0;32mdef\u001b[0m \u001b[0m_do_call\u001b[0m\u001b[0;34m(\u001b[0m\u001b[0mself\u001b[0m\u001b[0;34m,\u001b[0m \u001b[0mfn\u001b[0m\u001b[0;34m,\u001b[0m \u001b[0;34m*\u001b[0m\u001b[0margs\u001b[0m\u001b[0;34m)\u001b[0m\u001b[0;34m:\u001b[0m\u001b[0;34m\u001b[0m\u001b[0;34m\u001b[0m\u001b[0m\n\u001b[1;32m   1377\u001b[0m     \u001b[0;32mtry\u001b[0m\u001b[0;34m:\u001b[0m\u001b[0;34m\u001b[0m\u001b[0;34m\u001b[0m\u001b[0m\n\u001b[0;32m-> 1378\u001b[0;31m       \u001b[0;32mreturn\u001b[0m \u001b[0mfn\u001b[0m\u001b[0;34m(\u001b[0m\u001b[0;34m*\u001b[0m\u001b[0margs\u001b[0m\u001b[0;34m)\u001b[0m\u001b[0;34m\u001b[0m\u001b[0;34m\u001b[0m\u001b[0m\n\u001b[0m\u001b[1;32m   1379\u001b[0m     \u001b[0;32mexcept\u001b[0m \u001b[0merrors\u001b[0m\u001b[0;34m.\u001b[0m\u001b[0mOpError\u001b[0m \u001b[0;32mas\u001b[0m \u001b[0me\u001b[0m\u001b[0;34m:\u001b[0m\u001b[0;34m\u001b[0m\u001b[0;34m\u001b[0m\u001b[0m\n\u001b[1;32m   1380\u001b[0m       \u001b[0mmessage\u001b[0m \u001b[0;34m=\u001b[0m \u001b[0mcompat\u001b[0m\u001b[0;34m.\u001b[0m\u001b[0mas_text\u001b[0m\u001b[0;34m(\u001b[0m\u001b[0me\u001b[0m\u001b[0;34m.\u001b[0m\u001b[0mmessage\u001b[0m\u001b[0;34m)\u001b[0m\u001b[0;34m\u001b[0m\u001b[0;34m\u001b[0m\u001b[0m\n",
      "\u001b[0;32m~/anaconda3/lib/python3.9/site-packages/tensorflow/python/client/session.py\u001b[0m in \u001b[0;36m_run_fn\u001b[0;34m(feed_dict, fetch_list, target_list, options, run_metadata)\u001b[0m\n\u001b[1;32m   1359\u001b[0m       \u001b[0;31m# Ensure any changes to the graph are reflected in the runtime.\u001b[0m\u001b[0;34m\u001b[0m\u001b[0;34m\u001b[0m\u001b[0m\n\u001b[1;32m   1360\u001b[0m       \u001b[0mself\u001b[0m\u001b[0;34m.\u001b[0m\u001b[0m_extend_graph\u001b[0m\u001b[0;34m(\u001b[0m\u001b[0;34m)\u001b[0m\u001b[0;34m\u001b[0m\u001b[0;34m\u001b[0m\u001b[0m\n\u001b[0;32m-> 1361\u001b[0;31m       return self._call_tf_sessionrun(options, feed_dict, fetch_list,\n\u001b[0m\u001b[1;32m   1362\u001b[0m                                       target_list, run_metadata)\n\u001b[1;32m   1363\u001b[0m \u001b[0;34m\u001b[0m\u001b[0m\n",
      "\u001b[0;32m~/anaconda3/lib/python3.9/site-packages/tensorflow/python/client/session.py\u001b[0m in \u001b[0;36m_call_tf_sessionrun\u001b[0;34m(self, options, feed_dict, fetch_list, target_list, run_metadata)\u001b[0m\n\u001b[1;32m   1452\u001b[0m   def _call_tf_sessionrun(self, options, feed_dict, fetch_list, target_list,\n\u001b[1;32m   1453\u001b[0m                           run_metadata):\n\u001b[0;32m-> 1454\u001b[0;31m     return tf_session.TF_SessionRun_wrapper(self._session, options, feed_dict,\n\u001b[0m\u001b[1;32m   1455\u001b[0m                                             \u001b[0mfetch_list\u001b[0m\u001b[0;34m,\u001b[0m \u001b[0mtarget_list\u001b[0m\u001b[0;34m,\u001b[0m\u001b[0;34m\u001b[0m\u001b[0;34m\u001b[0m\u001b[0m\n\u001b[1;32m   1456\u001b[0m                                             run_metadata)\n",
      "\u001b[0;31mKeyboardInterrupt\u001b[0m: "
     ]
    }
   ],
   "source": [
    "\n",
    "# Add avg of losses\n",
    "\n",
    "import src.model as model\n",
    "\n",
    "\n",
    "run_config = tf.ConfigProto()\n",
    "\n",
    "run_config.gpu_options.per_process_gpu_memory_fraction = 0.333\n",
    "run_config.gpu_options.allow_growth = True\n",
    "\n",
    "with tf.Session(config = run_config) as sess:\n",
    "\n",
    "    dreamer = model.scDREAMER(\n",
    "        sess,\n",
    "        epoch = epoch_dict[name],\n",
    "        dataset_name = data_path[name][run_setting],\n",
    "        batch = batch_key_dict[name],\n",
    "        cell_type = cell_type_key_dict[name][run_setting],\n",
    "        plot_cell_type = plot_cell_type_dict[name],\n",
    "        name = name,\n",
    "        lr_ae = learning_rate[name][run_setting]['lr_ae'],\n",
    "        lr_dis = learning_rate[name][run_setting]['lr_dis'],\n",
    "        lr_bc = learning_rate[name][run_setting]['lr_bc'],\n",
    "        batch_size = BS[name][run_setting],\n",
    "        z_dim = latent_dim[name],\n",
    "        shuffle_type = shuffle_type_dict[name][run_setting],\n",
    "        sparseIP = sparseIP[name]\n",
    "        )\n",
    "\n",
    "    dreamer.train_cluster()\n",
    "\n",
    "    "
   ]
  },
  {
   "cell_type": "code",
   "execution_count": null,
   "metadata": {
    "id": "UMeOH7FmmZ1v"
   },
   "outputs": [],
   "source": []
  }
 ],
 "metadata": {
  "accelerator": "GPU",
  "colab": {
   "collapsed_sections": [],
   "include_colab_link": true,
   "machine_shape": "hm",
   "name": "2109_Classifier.ipynb",
   "provenance": []
  },
  "kernelspec": {
   "display_name": "Python 3 (ipykernel)",
   "language": "python",
   "name": "python3"
  },
  "language_info": {
   "codemirror_mode": {
    "name": "ipython",
    "version": 3
   },
   "file_extension": ".py",
   "mimetype": "text/x-python",
   "name": "python",
   "nbconvert_exporter": "python",
   "pygments_lexer": "ipython3",
   "version": "3.9.7"
  }
 },
 "nbformat": 4,
 "nbformat_minor": 1
}
