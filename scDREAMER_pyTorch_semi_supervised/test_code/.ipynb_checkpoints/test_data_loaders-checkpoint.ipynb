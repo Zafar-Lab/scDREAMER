{
 "cells": [
  {
   "cell_type": "code",
   "execution_count": 1,
   "id": "ef3107f7",
   "metadata": {},
   "outputs": [],
   "source": [
    "import os\n",
    "import torch\n",
    "import argparse\n",
    "import warnings\n",
    "import numpy as np\n",
    "import anndata\n",
    "from sklearn.preprocessing import OneHotEncoder\n",
    "import scanpy as sc\n",
    "import matplotlib.pyplot as plt\n",
    "import pandas as pd\n",
    "#import scDREAMER_train\n",
    "from utils import *\n",
    "from anndata import AnnData"
   ]
  },
  {
   "cell_type": "code",
   "execution_count": 2,
   "id": "19fa87d6",
   "metadata": {},
   "outputs": [],
   "source": [
    "def read_data(data_path, batch, cell_type, name, hvg=2000):\n",
    "\n",
    "    Ann = sc.read_h5ad(data_path)\n",
    "   \n",
    "    b = Ann.obs[batch] #.to_list()\n",
    "    batch_info = np.array([[i] for i in b]) \n",
    "    enc = OneHotEncoder(handle_unknown = 'ignore')\n",
    "\n",
    "    enc.fit(batch_info.reshape(-1, 1))\n",
    "    batch_info_enc = enc.transform(batch_info.reshape(-1, 1)).toarray()\n",
    "    Ann.obsm[batch + '_encoded'] = pd.DataFrame(batch_info_enc).to_numpy()\n",
    "\n",
    "    if cell_type is not None:\n",
    "        \n",
    "        labels = Ann.obs[cell_type].to_list()\n",
    "        \n",
    "        c = Ann.obs[cell_type]\n",
    "        cell_info = np.array([[i] for i in c])\n",
    "\n",
    "        enc.fit(cell_info.reshape(-1, 1))\n",
    "        labels_enc = enc.transform(cell_info.reshape(-1, 1)).toarray()\n",
    "\n",
    "        Ann.obsm[cell_type + \"_encoded\"] = pd.DataFrame(labels_enc).to_numpy()\n",
    "       \n",
    "    return Ann"
   ]
  },
  {
   "cell_type": "code",
   "execution_count": 3,
   "id": "8b07f4fe",
   "metadata": {},
   "outputs": [],
   "source": [
    "data_path = \"../Pan/Pancreas.h5ad\"\n",
    "batch = 'tech'\n",
    "cell_type = 'celltype'\n",
    "name = 'Pancreas'\n",
    "\n",
    "adata = read_data(data_path, batch, cell_type, name)"
   ]
  },
  {
   "cell_type": "code",
   "execution_count": null,
   "id": "7303e418",
   "metadata": {},
   "outputs": [],
   "source": [
    "from torch.utils.data import Dataset, DataLoader\n",
    "\n",
    "\n",
    "class AnndataLoader(Dataset):\n",
    "    def __init__(self, data_path, batch):\n",
    "        \n",
    "        Ann = sc.read_h5ad(data_path)\n",
    "        b = Ann.obs[batch] #.to_list()\n",
    "        batch_info = np.array([[i] for i in b]) \n",
    "        enc = OneHotEncoder(handle_unknown = 'ignore')\n",
    "\n",
    "        enc.fit(batch_info.reshape(-1, 1))\n",
    "        batch_info_enc = enc.transform(batch_info.reshape(-1, 1)).toarray()\n",
    "        Ann.obsm[batch + '_encoded'] = pd.DataFrame(batch_info_enc).to_numpy()\n",
    "    \n",
    "        self.Ann = Ann\n",
    "        \n",
    "    def __len__(self):\n",
    "        return len(self.Ann)\n",
    "        \n",
    "    def __getitem__(self, idx):\n",
    "        \n",
    "        if torch.is_tensor(idx):\n",
    "            idx = idx.tolist()\n",
    "            \n",
    "        x = self.Ann.X[idx, :]\n",
    "        batch_encoded = self.Ann.obsm['tech_encoded'][idx, :]\n",
    "        \n",
    "        sample = {'X' : x, \n",
    "                  'batch_encoded' : batch_encoded} \n",
    "        \n",
    "        return sample\n",
    "        \n",
    "         "
   ]
  },
  {
   "cell_type": "code",
   "execution_count": null,
   "id": "cadaad22",
   "metadata": {},
   "outputs": [],
   "source": [
    "adata.X.shape\n",
    "128*128"
   ]
  },
  {
   "cell_type": "code",
   "execution_count": 6,
   "id": "dfd34b2b",
   "metadata": {},
   "outputs": [
    {
     "ename": "TypeError",
     "evalue": "metaclass conflict: the metaclass of a derived class must be a (non-strict) subclass of the metaclasses of all its bases",
     "output_type": "error",
     "traceback": [
      "\u001b[0;31m---------------------------------------------------------------------------\u001b[0m",
      "\u001b[0;31mTypeError\u001b[0m                                 Traceback (most recent call last)",
      "Cell \u001b[0;32mIn[6], line 4\u001b[0m\n\u001b[1;32m      1\u001b[0m \u001b[38;5;28;01mfrom\u001b[39;00m \u001b[38;5;21;01mtorch\u001b[39;00m\u001b[38;5;21;01m.\u001b[39;00m\u001b[38;5;21;01mutils\u001b[39;00m\u001b[38;5;21;01m.\u001b[39;00m\u001b[38;5;21;01mdata\u001b[39;00m \u001b[38;5;28;01mimport\u001b[39;00m Dataset, DataLoader\n\u001b[0;32m----> 4\u001b[0m \u001b[38;5;28;01mclass\u001b[39;00m \u001b[38;5;21;01mAnndataLoader\u001b[39;00m(adata, batch):\n\u001b[1;32m      5\u001b[0m     \u001b[38;5;28;01mdef\u001b[39;00m \u001b[38;5;21m__init__\u001b[39m(\u001b[38;5;28mself\u001b[39m, Ann, batch):\n\u001b[1;32m      7\u001b[0m         \u001b[38;5;28mself\u001b[39m\u001b[38;5;241m.\u001b[39mbatch \u001b[38;5;241m=\u001b[39m batch    \n",
      "\u001b[0;31mTypeError\u001b[0m: metaclass conflict: the metaclass of a derived class must be a (non-strict) subclass of the metaclasses of all its bases"
     ]
    }
   ],
   "source": [
    "from torch.utils.data import Dataset, DataLoader\n",
    "\n",
    "\n",
    "class AnndataLoader1(Dataset):\n",
    "    def __init__(self, adata, batch):\n",
    "        \n",
    "        self.batch = batch    \n",
    "        self.Ann = adata\n",
    "        \n",
    "    def __len__(self):\n",
    "        return len(self.Ann)\n",
    "        \n",
    "    def __getitem__(self, idx):\n",
    "        \n",
    "        if torch.is_tensor(idx):\n",
    "            idx = idx.tolist()\n",
    "            \n",
    "        x = self.Ann.X[idx, :]\n",
    "        batch_encoded = self.Ann.obsm[self.batch + '_encoded'][idx, :]\n",
    "        \n",
    "        sample = {'X' : x, \n",
    "                  'batch_encoded' : batch_encoded} \n",
    "        \n",
    "        return sample"
   ]
  },
  {
   "cell_type": "code",
   "execution_count": null,
   "id": "b0abfe86",
   "metadata": {},
   "outputs": [],
   "source": [
    "ann_dataset = AnndataLoader1(adata, batch)\n",
    "dataloader = DataLoader(ann_dataset, batch_size = 128, shuffle = True, num_workers = 0)\n",
    "\n",
    "for i_batch, sample_batched in enumerate(dataloader):\n",
    "    \n",
    "    print (i_batch, sample_batched['X'].size(), sample_batched['batch_encoded'].size())\n",
    "    sample = ann_dataset[i_batch]"
   ]
  }
 ],
 "metadata": {
  "kernelspec": {
   "display_name": "Python 3 (ipykernel)",
   "language": "python",
   "name": "python3"
  },
  "language_info": {
   "codemirror_mode": {
    "name": "ipython",
    "version": 3
   },
   "file_extension": ".py",
   "mimetype": "text/x-python",
   "name": "python",
   "nbconvert_exporter": "python",
   "pygments_lexer": "ipython3",
   "version": "3.9.16"
  }
 },
 "nbformat": 4,
 "nbformat_minor": 5
}
